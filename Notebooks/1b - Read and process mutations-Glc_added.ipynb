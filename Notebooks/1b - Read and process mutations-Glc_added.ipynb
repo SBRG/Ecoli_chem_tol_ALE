{
 "cells": [
  {
   "cell_type": "markdown",
   "metadata": {},
   "source": [
    "# Processing mutations"
   ]
  },
  {
   "cell_type": "markdown",
   "metadata": {},
   "source": [
    "The variant calls from the BreSeq pipeline are parsed and analysed. All strains with _mutX_ mutations are excluded as they accumulate SNPs at a very high rate, masking interesting mutations.\n",
    "\n",
    "Mutations that are present in all strains are also excluded as they have most likely also been in the background strain, prior to the evolution experiments."
   ]
  },
  {
   "cell_type": "code",
   "execution_count": 1,
   "metadata": {},
   "outputs": [],
   "source": [
    "import pandas as pd\n",
    "import json\n",
    "import copy\n",
    "import matplotlib.pyplot as plt\n",
    "import numpy as np"
   ]
  },
  {
   "cell_type": "code",
   "execution_count": 2,
   "metadata": {},
   "outputs": [],
   "source": [
    "%matplotlib inline"
   ]
  },
  {
   "cell_type": "code",
   "execution_count": 3,
   "metadata": {},
   "outputs": [],
   "source": [
    "compounds = [\"HMDA\", \"putrescine\", \"1,2-propanediol\", \"2,3-butanediol\", \"glutarate\", \"adipate\", \"hexanoate\",\n",
    "             \"octanoate\", \"coumarate\", \"isobutyrate\", \"butanol\", \"no_chemical\"\n",
    "            ]\n",
    "\n",
    "mapping = pd.read_csv(\"../Data/Mutation_data/Variant_calls/mapping.csv\", header=None)\n",
    "compound_mapping = {\n",
    "    1: \"butanol\",\n",
    "    2: \"glutarate\",\n",
    "    3: \"coumarate\",\n",
    "    5: \"HMDA\",\n",
    "    6: \"putrescine\",\n",
    "    7: \"adipate\",\n",
    "    8: \"isobutyrate\",\n",
    "    9: \"hexanoate\",\n",
    "    10: \"2,3-butanediol\",\n",
    "    11: \"1,2-propanediol\",\n",
    "    12: \"octanoate\",\n",
    "    13: \"no_chemical\"\n",
    "}\n",
    "rev_compound_mapping = {v: k for k, v in compound_mapping.items()}"
   ]
  },
  {
   "cell_type": "code",
   "execution_count": 4,
   "metadata": {},
   "outputs": [],
   "source": [
    "code_to_compound = {\n",
    "    \"BUT\": \"butanol\",\n",
    "    \"GLUT\": \"glutarate\",\n",
    "    \"COUM\": \"coumarate\",\n",
    "    \"HMDA\": \"HMDA\",\n",
    "    \"PUTR\": \"putrescine\",\n",
    "    \"ADIP\": \"adipate\",\n",
    "    \"IBUA\": \"isobutyrate\",\n",
    "    \"HEXA\": \"hexanoate\",\n",
    "    \"23BD\": \"2,3-butanediol\",\n",
    "    \"12PD\": \"1,2-propanediol\",\n",
    "    \"OCTA\": \"octanoate\",\n",
    "    \"GLU\":\"no_chemical\"\n",
    "}\n",
    "comp_to_code = {v: k for k, v in code_to_compound.items()}"
   ]
  },
  {
   "cell_type": "markdown",
   "metadata": {},
   "source": [
    "Generate a mutation id from the information from BreSeq.\n"
   ]
  },
  {
   "cell_type": "code",
   "execution_count": 5,
   "metadata": {},
   "outputs": [],
   "source": [
    "def generate_mut_id(row):\n",
    "    typ = row[\"Mutation Type\"]\n",
    "    pos = str(int(row[\"Position\"].replace(\",\", \"\")))\n",
    "    if typ == \"SNP\":\n",
    "        last = row[\"Sequence Change\"][-1]\n",
    "    elif typ == \"DEL\":\n",
    "        if \"(\" in row[\"Sequence Change\"]:\n",
    "            last = str(len(row[\"Sequence Change\"].split(\")\")[0][1:]))\n",
    "        else:\n",
    "            last = str(int(row[\"Sequence Change\"][1:-3].replace(\",\", \"\")))\n",
    "    elif typ == \"INS\":\n",
    "        if \"(\" in row[\"Sequence Change\"]:\n",
    "            last = row[\"Sequence Change\"].split(\")\")[0][1:]\n",
    "        else:\n",
    "            last = row[\"Sequence Change\"][1:]\n",
    "    elif typ == \"MOB\":\n",
    "        fields = row[\"Sequence Change\"].split(\"\\xa0\")\n",
    "        if len(fields)==1: #handling excdptions for Glu samples\n",
    "            fields = str(fields[0]).split(\" \")\n",
    "        last = fields[0] + \"-\" + fields[2][1:]\n",
    "    elif typ == \"DUP\":\n",
    "        times = row[\"Sequence Change\"].split(\"x\")[-1]\n",
    "        size = row[\"Sequence Change\"].split(\" bp \")[0]\n",
    "        last = size + \"_\" + times\n",
    "    else:\n",
    "        last = \"\"\n",
    "    return \"-\".join((typ, pos, last))"
   ]
  },
  {
   "cell_type": "markdown",
   "metadata": {},
   "source": [
    "Convert the strain code from the breseq results to the real strain names using the mapping file."
   ]
  },
  {
   "cell_type": "code",
   "execution_count": 6,
   "metadata": {},
   "outputs": [],
   "source": [
    "def strain_code_to_name(strain_code, compound):\n",
    "    compound_num = rev_compound_mapping[compound]\n",
    "    fields = strain_code.split(\" \")[-4:]\n",
    "    fields = [f[1:] for f in fields]\n",
    "    code = (int(fields[0]), int(fields[2]), int(fields[3]))\n",
    "    strain = mapping[mapping[0] == compound_num].groupby(by=[1, 2, 3]).first().loc[code][4]\n",
    "    return strain"
   ]
  },
  {
   "cell_type": "code",
   "execution_count": 7,
   "metadata": {},
   "outputs": [],
   "source": [
    "def convert_to_int(string):\n",
    "    if string[0] == \"‑\": # Weird non-standard minus sign\n",
    "        string = \"-\" + string[1:] # Replace with normal minus sign\n",
    "    return int(string)\n",
    "\n",
    "def pick_gene(rel_coords):\n",
    "    \"\"\"Given relative coordinates of an intergenic mutation, pick the gene that is closest downstream\"\"\"\n",
    "    if min(rel_coords) > 0:\n",
    "        return None\n",
    "    elif max(rel_coords) <= 0:\n",
    "        if rel_coords[0] > rel_coords[1]:\n",
    "            return 0\n",
    "        else:\n",
    "            return 1\n",
    "    elif rel_coords[0] <= 0:\n",
    "        return 0\n",
    "    elif rel_coords[1] <= 0:\n",
    "        return 1\n",
    "    else:\n",
    "        raise RuntimeError(\"What else is there?\")"
   ]
  },
  {
   "cell_type": "code",
   "execution_count": 8,
   "metadata": {},
   "outputs": [],
   "source": [
    "excluded_mutations = {\n",
    "    'DEL-1299499-1199', # Randomly called across populations DEL ychE/oppA intergenic(+254/-485)\n",
    "}"
   ]
  },
  {
   "cell_type": "code",
   "execution_count": 9,
   "metadata": {},
   "outputs": [],
   "source": [
    "strain_to_muts = {}\n",
    "mut_to_genes = {}\n",
    "mut_to_change = {}\n",
    "mut_to_seq = {}\n",
    "mut_to_full_details = {}\n",
    "\n",
    "for comp in compounds:\n",
    "    df = pd.read_csv(\"../Data/Mutation_data/Variant_calls/%s.csv\" % comp)    \n",
    "    df[\"mut_id\"] = df.apply(generate_mut_id, 1)\n",
    "    \n",
    "    for idx, row in df.iterrows():\n",
    "        genes = row[\"Gene\"]\n",
    "        if \"genes\" in genes:\n",
    "            genes = genes.split(\"genes\")[-1] # Fix inconsistent format for large deletions\n",
    "        genes = genes.split(\", \")\n",
    "        genes = [gene.strip(\"[] >\") for gene in genes]\n",
    "        change = row[\"Protein change\"]\n",
    "        if isinstance(change, str) and change.startswith(\"intergenic\"):\n",
    "            nums = change.split(\"(\")[1][:-1].split(\"/\")\n",
    "            nums = convert_to_int(nums[0]), convert_to_int(nums[1])\n",
    "            nearest = pick_gene(nums)\n",
    "            if nearest is None:\n",
    "                genes = []\n",
    "            else:\n",
    "                genes = [genes[nearest]]\n",
    "                \n",
    "        mut_id = row[\"mut_id\"]\n",
    "        mut_to_genes[mut_id] = genes\n",
    "        mut_to_change[mut_id] = change\n",
    "        mut_to_seq[mut_id] = row['Sequence Change']\n",
    "        mut_to_full_details[mut_id] = row['Protein change']\n",
    "        \n",
    "    for strain_code in df.columns[10:]:\n",
    "        if strain_code == \"mut_id\":\n",
    "            continue\n",
    "        strain = strain_code_to_name(strain_code, comp)\n",
    "        if strain.endswith(\"-rerun\"):\n",
    "            strain = strain[:-6]\n",
    "\n",
    "        muts = list(df[df[strain_code] == 1][\"mut_id\"])\n",
    "        strain_to_muts[strain] = set(muts)  - excluded_mutations # \"-rerun\" samples overwrite original samples"
   ]
  },
  {
   "cell_type": "code",
   "execution_count": 10,
   "metadata": {},
   "outputs": [],
   "source": [
    "with open(\"../Data/Mutation_data/Mutation_sequence_changes_glc.json\", \"w\") as outfile:\n",
    "    json.dump(mut_to_seq, outfile)\n",
    "with open(\"../Data/Mutation_data/Mutation_protein_changes_glc.json\", \"w\") as outfile:\n",
    "    json.dump(mut_to_full_details, outfile)"
   ]
  },
  {
   "cell_type": "code",
   "execution_count": 11,
   "metadata": {},
   "outputs": [],
   "source": [
    "# Save the protein effect of all SNP mutations\n",
    "mut_effects = {}\n",
    "for mut, change in mut_to_change.items():\n",
    "    typ = mut.split(\"-\")[0]\n",
    "    if typ == \"SNP\":\n",
    "        if \"intergenic\" in change:\n",
    "            effect = \"intergenic\"\n",
    "        elif \"pseudogene\" in change:\n",
    "            effect = \"pseudogene\"\n",
    "        else:\n",
    "            subs = change.split()[0]\n",
    "            effect = subs\n",
    "    else:\n",
    "        effect = \"\"\n",
    "        if change == change and typ != \"DUP\":\n",
    "            effect = change.split()[0]\n",
    "            # print(typ, change)\n",
    "    mut_effects[mut] = (typ, effect)\n",
    "    \n",
    "with open(\"../Data/Mutation_data/Mutation_effects_glc.json\", \"w\") as outfile:\n",
    "    json.dump(mut_effects, outfile)"
   ]
  },
  {
   "cell_type": "code",
   "execution_count": 12,
   "metadata": {},
   "outputs": [],
   "source": [
    "strain_to_genes = {}\n",
    "\n",
    "# Add genes that are specifically mutated (mutation only has 1 gene target)\n",
    "for strain, muts in strain_to_muts.items():\n",
    "    for mut in muts:\n",
    "        if len(mut_to_genes[mut]) == 1:\n",
    "            strain_to_genes.setdefault(strain, []).append(mut_to_genes[mut][0])\n",
    "            \n",
    "strain_to_genes = {k: set(v) for k, v in strain_to_genes.items()}\n",
    "\n",
    "certain_mutations = {\n",
    "    comp: set.union(*(v for k, v in strain_to_genes.items() if k.startswith(comp))) for comp in code_to_compound\n",
    "}\n",
    "strain_to_all_genes = copy.deepcopy(strain_to_genes)\n",
    "\n",
    "# For mutations that affect multiple genes: only add genes that are already mutated in strains from that compound\n",
    "# (or mutator genes)\n",
    "for comp in code_to_compound:\n",
    "    for strain in (s for s in strain_to_muts if s.startswith(comp)):\n",
    "        for mut in strain_to_muts[strain]:\n",
    "            if mut.startswith(\"DUP\"):\n",
    "                continue\n",
    "            if len(mut_to_genes[mut]) > 1:\n",
    "                for gene in mut_to_genes[mut]:\n",
    "                    strain_to_all_genes[strain].add(gene)\n",
    "                    if gene in certain_mutations[comp] or gene.startswith(\"mut\"):\n",
    "                        strain_to_genes[strain].add(gene)"
   ]
  },
  {
   "cell_type": "code",
   "execution_count": 13,
   "metadata": {},
   "outputs": [],
   "source": [
    "# Hypermutators are strains with mutations in a mutX gene\n",
    "hypermutators = [s for s, genes in strain_to_genes.items() if \"mut\" in set(g[:3] for g in genes)]\n",
    "non_hypermutators = set(strain_to_genes) - set(hypermutators)"
   ]
  },
  {
   "cell_type": "code",
   "execution_count": 14,
   "metadata": {},
   "outputs": [],
   "source": [
    "# Create an overview table of mutations in all strains\n",
    "mut_df = pd.DataFrame({s: {m: 1 for m in muts} for s, muts in strain_to_muts.items()}).fillna(0).astype(\"int\")\n",
    "mut_df.to_csv(\"../Data/Mutation_data/strain_mutation_table_glc.tsv\", sep=\"\\t\")"
   ]
  },
  {
   "cell_type": "code",
   "execution_count": 15,
   "metadata": {},
   "outputs": [],
   "source": [
    "with open(\"../Data/Mutation_data/Strain_to_genes_glc.json\", \"w\") as outfile:\n",
    "    json.dump({k: list(v) for k, v in strain_to_genes.items() if k in non_hypermutators}, outfile)\n",
    "    \n",
    "with open(\"../Data/Mutation_data/Strain_to_all_genes_glc.json\", \"w\") as outfile:\n",
    "    json.dump({k: list(v) for k, v in strain_to_all_genes.items() if k in non_hypermutators}, outfile)\n",
    "    \n",
    "with open(\"../Data/Mutation_data/All_strains_to_gene_names_glc.json\", \"w\") as outfile:\n",
    "    json.dump({k: list(v) for k, v in strain_to_genes.items()}, outfile)\n",
    "    \n",
    "with open(\"../Data/Mutation_data/All_strains_to_mutations_glc.json\", \"w\") as outfile:\n",
    "    json.dump({k: list(v) for k, v in strain_to_muts.items()}, outfile)\n",
    "    \n",
    "with open(\"../Data/Mutation_data/All_mutated_genes_glc.txt\", \"w\") as outfile:\n",
    "    mutated_genes = set.union(*[strain_to_genes[s] for s in non_hypermutators])\n",
    "    outfile.write(\"\\n\".join(mutated_genes))\n",
    "    \n",
    "with open(\"../Data/Mutation_data/Mutations_to_gene_names_glc.json\", \"w\") as outfile:\n",
    "    json.dump({k: v for k, v in mut_to_genes.items()}, outfile)"
   ]
  },
  {
   "cell_type": "code",
   "execution_count": 16,
   "metadata": {},
   "outputs": [],
   "source": [
    "hypermutators_df = pd.DataFrame(hypermutators, columns=[\"strain_code\"])\n",
    "hypermutators_df.to_csv(\"../Data/Mutation_data/hypermutators_list_glc.csv\",index=False)"
   ]
  },
  {
   "cell_type": "code",
   "execution_count": 17,
   "metadata": {},
   "outputs": [],
   "source": [
    "mapping.to_csv(\"../Data/Mutation_data/Variant_calls/mapping_glc.csv\")"
   ]
  }
 ],
 "metadata": {
  "anaconda-cloud": {},
  "kernelspec": {
   "display_name": "Python 3 (ipykernel)",
   "language": "python",
   "name": "python3"
  },
  "language_info": {
   "codemirror_mode": {
    "name": "ipython",
    "version": 3
   },
   "file_extension": ".py",
   "mimetype": "text/x-python",
   "name": "python",
   "nbconvert_exporter": "python",
   "pygments_lexer": "ipython3",
   "version": "3.10.4"
  }
 },
 "nbformat": 4,
 "nbformat_minor": 4
}
