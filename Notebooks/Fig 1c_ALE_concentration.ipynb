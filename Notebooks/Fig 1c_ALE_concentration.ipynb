{
 "cells": [
  {
   "cell_type": "code",
   "execution_count": 1,
   "id": "d7bedcac",
   "metadata": {},
   "outputs": [],
   "source": [
    "import pandas as pd\n",
    "import numpy as np\n",
    "import matplotlib.pyplot as plt"
   ]
  },
  {
   "cell_type": "code",
   "execution_count": 2,
   "id": "2a94304a",
   "metadata": {},
   "outputs": [],
   "source": [
    "plt.rcParams['svg.fonttype'] = 'none'"
   ]
  },
  {
   "cell_type": "code",
   "execution_count": 3,
   "id": "3dc8e5c1",
   "metadata": {},
   "outputs": [],
   "source": [
    "conc = pd.read_csv('../Data/Growth_data/ALE_data/ALE_conc.csv', index_col=0)"
   ]
  },
  {
   "cell_type": "code",
   "execution_count": 4,
   "id": "abe3206e",
   "metadata": {},
   "outputs": [],
   "source": [
    "conc['Initial_ALE_mol']=conc['Initial_ALE']/conc['Mw']\n",
    "conc['Final_ALE_mol']=conc['Final_ALE']/conc['Mw']\n",
    "conc['FC']= conc['Final_ALE_mol']/conc['Initial_ALE_mol']"
   ]
  },
  {
   "cell_type": "code",
   "execution_count": 5,
   "id": "7cf4e073",
   "metadata": {},
   "outputs": [],
   "source": [
    "conc['percentage']=(conc['FC']-1)*100\n",
    "conc['percentage']=conc['percentage'].astype(int)"
   ]
  },
  {
   "cell_type": "code",
   "execution_count": 6,
   "id": "b5fdf62c",
   "metadata": {},
   "outputs": [],
   "source": [
    "for i in conc.index:\n",
    "    conc.loc[i,'new_name']=i+\" (\"+str(conc.loc[i,'percentage'])+\"%)\""
   ]
  },
  {
   "cell_type": "code",
   "execution_count": 7,
   "id": "425576ae",
   "metadata": {},
   "outputs": [],
   "source": [
    "conc=conc.rename(index=conc['new_name'])"
   ]
  },
  {
   "cell_type": "code",
   "execution_count": 8,
   "id": "b034390e",
   "metadata": {},
   "outputs": [
    {
     "data": {
      "text/html": [
       "<div>\n",
       "<style scoped>\n",
       "    .dataframe tbody tr th:only-of-type {\n",
       "        vertical-align: middle;\n",
       "    }\n",
       "\n",
       "    .dataframe tbody tr th {\n",
       "        vertical-align: top;\n",
       "    }\n",
       "\n",
       "    .dataframe thead th {\n",
       "        text-align: right;\n",
       "    }\n",
       "</style>\n",
       "<table border=\"1\" class=\"dataframe\">\n",
       "  <thead>\n",
       "    <tr style=\"text-align: right;\">\n",
       "      <th></th>\n",
       "      <th>Unnamed: 1</th>\n",
       "      <th>Initial_ALE</th>\n",
       "      <th>Final_ALE</th>\n",
       "      <th>Isolate_screen</th>\n",
       "      <th>cross_tolerance</th>\n",
       "      <th>Mw</th>\n",
       "      <th>Initial_ALE_mol</th>\n",
       "      <th>Final_ALE_mol</th>\n",
       "      <th>FC</th>\n",
       "      <th>percentage</th>\n",
       "      <th>new_name</th>\n",
       "    </tr>\n",
       "  </thead>\n",
       "  <tbody>\n",
       "    <tr>\n",
       "      <th>NaCl (66%)</th>\n",
       "      <td>NaCl</td>\n",
       "      <td>30.0</td>\n",
       "      <td>50.0</td>\n",
       "      <td>NaN</td>\n",
       "      <td>NaN</td>\n",
       "      <td>58.440</td>\n",
       "      <td>0.513347</td>\n",
       "      <td>0.855578</td>\n",
       "      <td>1.666667</td>\n",
       "      <td>66</td>\n",
       "      <td>NaCl (66%)</td>\n",
       "    </tr>\n",
       "    <tr>\n",
       "      <th>12PD (59%)</th>\n",
       "      <td>1,2-Propanediol</td>\n",
       "      <td>52.0</td>\n",
       "      <td>83.0</td>\n",
       "      <td>83.0</td>\n",
       "      <td>62.0</td>\n",
       "      <td>76.090</td>\n",
       "      <td>0.683401</td>\n",
       "      <td>1.090814</td>\n",
       "      <td>1.596154</td>\n",
       "      <td>59</td>\n",
       "      <td>12PD (59%)</td>\n",
       "    </tr>\n",
       "    <tr>\n",
       "      <th>23BD (61%)</th>\n",
       "      <td>23-Butanediol</td>\n",
       "      <td>49.0</td>\n",
       "      <td>79.0</td>\n",
       "      <td>69.0</td>\n",
       "      <td>59.0</td>\n",
       "      <td>90.121</td>\n",
       "      <td>0.543713</td>\n",
       "      <td>0.876599</td>\n",
       "      <td>1.612245</td>\n",
       "      <td>61</td>\n",
       "      <td>23BD (61%)</td>\n",
       "    </tr>\n",
       "    <tr>\n",
       "      <th>HDMA (89%)</th>\n",
       "      <td>Hexamethylenediamine</td>\n",
       "      <td>20.0</td>\n",
       "      <td>38.0</td>\n",
       "      <td>38.0</td>\n",
       "      <td>32.0</td>\n",
       "      <td>116.210</td>\n",
       "      <td>0.172102</td>\n",
       "      <td>0.326994</td>\n",
       "      <td>1.900000</td>\n",
       "      <td>89</td>\n",
       "      <td>HDMA (89%)</td>\n",
       "    </tr>\n",
       "    <tr>\n",
       "      <th>PUTR (89%)</th>\n",
       "      <td>Putrescine</td>\n",
       "      <td>20.0</td>\n",
       "      <td>38.0</td>\n",
       "      <td>38.0</td>\n",
       "      <td>32.0</td>\n",
       "      <td>88.150</td>\n",
       "      <td>0.226886</td>\n",
       "      <td>0.431083</td>\n",
       "      <td>1.900000</td>\n",
       "      <td>89</td>\n",
       "      <td>PUTR (89%)</td>\n",
       "    </tr>\n",
       "  </tbody>\n",
       "</table>\n",
       "</div>"
      ],
      "text/plain": [
       "                      Unnamed: 1  Initial_ALE  Final_ALE  Isolate_screen  \\\n",
       "NaCl (66%)                  NaCl         30.0       50.0             NaN   \n",
       "12PD (59%)       1,2-Propanediol         52.0       83.0            83.0   \n",
       "23BD (61%)         23-Butanediol         49.0       79.0            69.0   \n",
       "HDMA (89%)  Hexamethylenediamine         20.0       38.0            38.0   \n",
       "PUTR (89%)            Putrescine         20.0       38.0            38.0   \n",
       "\n",
       "            cross_tolerance       Mw  Initial_ALE_mol  Final_ALE_mol  \\\n",
       "NaCl (66%)              NaN   58.440         0.513347       0.855578   \n",
       "12PD (59%)             62.0   76.090         0.683401       1.090814   \n",
       "23BD (61%)             59.0   90.121         0.543713       0.876599   \n",
       "HDMA (89%)             32.0  116.210         0.172102       0.326994   \n",
       "PUTR (89%)             32.0   88.150         0.226886       0.431083   \n",
       "\n",
       "                  FC  percentage    new_name  \n",
       "NaCl (66%)  1.666667          66  NaCl (66%)  \n",
       "12PD (59%)  1.596154          59  12PD (59%)  \n",
       "23BD (61%)  1.612245          61  23BD (61%)  \n",
       "HDMA (89%)  1.900000          89  HDMA (89%)  \n",
       "PUTR (89%)  1.900000          89  PUTR (89%)  "
      ]
     },
     "execution_count": 8,
     "metadata": {},
     "output_type": "execute_result"
    }
   ],
   "source": [
    "conc.head()"
   ]
  },
  {
   "cell_type": "code",
   "execution_count": 9,
   "id": "58616f39",
   "metadata": {},
   "outputs": [
    {
     "data": {
      "image/png": "[encoded data removed]",
      "text/plain": [
       "<Figure size 432x288 with 1 Axes>"
      ]
     },
     "metadata": {
      "needs_background": "light"
     },
     "output_type": "display_data"
    }
   ],
   "source": [
    "ax=conc[['Initial_ALE_mol','Final_ALE_mol']].plot.barh()\n",
    "ax.invert_yaxis()\n",
    "plt.xlabel(\"Concentration (M)\", fontsize=16)\n",
    "plt.ylabel(\"Compounds\", fontsize=16)\n",
    "plt.savefig(\"./../Plots/Figure_1c.svg\")"
   ]
  }
 ],
 "metadata": {
  "kernelspec": {
   "display_name": "Python 3 (ipykernel)",
   "language": "python",
   "name": "python3"
  },
  "language_info": {
   "codemirror_mode": {
    "name": "ipython",
    "version": 3
   },
   "file_extension": ".py",
   "mimetype": "text/x-python",
   "name": "python",
   "nbconvert_exporter": "python",
   "pygments_lexer": "ipython3",
   "version": "3.10.4"
  }
 },
 "nbformat": 4,
 "nbformat_minor": 5
}
