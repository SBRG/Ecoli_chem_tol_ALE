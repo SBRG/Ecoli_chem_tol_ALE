{
 "cells": [
  {
   "cell_type": "code",
   "execution_count": 21,
   "metadata": {},
   "outputs": [],
   "source": [
    "import pandas as pd\n",
    "import matplotlib.pyplot as plt\n",
    "import seaborn as sbn"
   ]
  },
  {
   "cell_type": "code",
   "execution_count": 22,
   "metadata": {},
   "outputs": [],
   "source": [
    "%matplotlib inline"
   ]
  },
  {
   "cell_type": "code",
   "execution_count": 23,
   "metadata": {},
   "outputs": [],
   "source": [
    "plt.rcParams['svg.fonttype'] = 'none'"
   ]
  },
  {
   "cell_type": "code",
   "execution_count": 24,
   "metadata": {},
   "outputs": [],
   "source": [
    "def prettify(s):\n",
    "    if s == s.upper():\n",
    "        return s\n",
    "    else:\n",
    "        return s.capitalize()"
   ]
  },
  {
   "cell_type": "code",
   "execution_count": 25,
   "metadata": {},
   "outputs": [],
   "source": [
    "adip_df = pd.read_excel(\"../Data/Growth_data/Supplementary-screening/adipate_ALE-KOs_102114.xlsx\", sheet_name=\"subtracted\")\n",
    "adip_df = adip_df.reset_index()\n",
    "\n",
    "adip_df = adip_df[pd.notnull(adip_df[\"Unnamed: 0\"])]\n",
    "adip_df[\"sample\"] = adip_df[\"Unnamed: 2\"]\n",
    "\n",
    "del adip_df[\"Unnamed: 0\"]\n",
    "del adip_df[\"Unnamed: 1\"]\n",
    "del adip_df[\"Unnamed: 2\"]\n",
    "del adip_df[\"TIME [h] ->\"]\n",
    "\n",
    "adip_df[\"strain\"] = adip_df[\"sample\"].map(lambda x: x[:-2])\n",
    "exclude_adip_samples = [\"ADIP1-9_2\"]\n",
    "adip_df = adip_df[~adip_df[\"sample\"].isin(exclude_adip_samples)]\n",
    "\n",
    "exclude_adip = [\"ADIP3-8\", \"ADIP7-5\", \"ADIP4-1\", \"ADIP3-4\", \"ADIP3-2\", \"ADIP7-2\", \"proV\", \"ybjL\", \"kgtP_ybjL\", \"kgtP_sspA\"]\n",
    "adip_df = adip_df[~adip_df[\"strain\"].isin(exclude_adip)]\n",
    "\n",
    "adip_df = adip_df.drop(columns='index')"
   ]
  },
  {
   "cell_type": "code",
   "execution_count": 26,
   "metadata": {},
   "outputs": [],
   "source": [
    "glut_df = pd.read_excel(\"../Data/Growth_data/Supplementary-screening/glutarate_ALE-KOs_102814.xlsx\", sheet_name=\"subtracted\")\n"
   ]
  },
  {
   "cell_type": "code",
   "execution_count": 27,
   "metadata": {},
   "outputs": [],
   "source": [
    "glut_df = glut_df.reset_index()\n",
    "glut_df = glut_df[pd.notnull(glut_df[\"Unnamed: 0\"])]\n",
    "glut_df[\"sample\"] = glut_df[\"Unnamed: 2\"]\n",
    "del glut_df[\"Unnamed: 0\"]\n",
    "del glut_df[\"Unnamed: 1\"]\n",
    "del glut_df[\"Unnamed: 2\"]\n",
    "del glut_df[\"TIME [h] ->\"]\n"
   ]
  },
  {
   "cell_type": "code",
   "execution_count": 28,
   "metadata": {},
   "outputs": [],
   "source": [
    "\n",
    "glut_df = glut_df[~glut_df[\"sample\"].isin([\"nothing\", \"M9 blank\"])]\n",
    "\n",
    "glut_df[\"strain\"] = glut_df[\"sample\"].map(lambda x: x[:-2])\n",
    "exclude_glut_samples = []\n",
    "glut_df = glut_df[~glut_df[\"sample\"].isin(exclude_glut_samples)]\n",
    "\n",
    "exclude_glut = [\"proV\", \"ybjL\", \"kgtP_ybjL\", \"kgtP_sspA\"]\n",
    "glut_df = glut_df[~glut_df[\"strain\"].isin(exclude_glut)]"
   ]
  },
  {
   "cell_type": "code",
   "execution_count": 29,
   "metadata": {},
   "outputs": [],
   "source": [
    "glut_df = glut_df.drop(columns='index')"
   ]
  },
  {
   "cell_type": "code",
   "execution_count": 30,
   "metadata": {},
   "outputs": [],
   "source": [
    "colors = [\"#66358c\", \"#feba19\", \"#28a6e0\", \"#1c783c\"]\n",
    "label_dict = {\n",
    "    \"kgtP\": \"$\\Delta$kgtP\",\n",
    "    \"kgtP_proV\": \"$\\Delta$kgtP $\\Delta$proV\",\n",
    "    \"kgtP_proV_ybjL\": \"$\\Delta$kgtP $\\Delta$proV $\\Delta$ybjL\",\n",
    "    \"pykF\": \"$\\Delta$pykF\",\n",
    "    \"ilvH\": \"MG1655 ilvH-L9F\"\n",
    "}\n",
    "\n",
    "def plot_curves(df, last_label=\"\", xmax=30, ymax=30, use_gray=True, strain_order=None):\n",
    "    color_it = iter(colors)\n",
    "    strain_means = df.groupby(\"strain\").mean().transpose()\n",
    "    strain_stds = df.groupby(\"strain\").std().transpose() #/ 3**0.5\n",
    "    if strain_order is None:\n",
    "        columns = strain_means.columns\n",
    "    else:\n",
    "        columns = strain_order\n",
    "    for i, strain in enumerate(columns):\n",
    "        # plt.subplot(5, 5, i+1)\n",
    "        # plt.title(strain)\n",
    "        if use_gray and (strain.startswith(\"ADIP\") or strain.startswith(\"GLUT\") or strain.startswith(\"IBUA\")):\n",
    "            label = None\n",
    "            color = \"grey\"\n",
    "        else:\n",
    "            label = strain\n",
    "            color=next(color_it)\n",
    "        plt.plot(strain_means.index, strain_means[strain].values, color=color, linewidth=3)\n",
    "        plt.fill_between(\n",
    "            strain_means.index.astype(\"float\"),\n",
    "            (strain_means[strain] + strain_stds[strain]).values,\n",
    "            (strain_means[strain] - strain_stds[strain]).values,\n",
    "            color=color,\n",
    "            alpha=0.4\n",
    "        )\n",
    "        plt.fill_between([0, 0], [0, 0], color=color, label=label_dict.get(label, label))\n",
    "    plt.fill_between([0, 0], [0, 0], color=\"grey\", label=last_label)\n",
    "    plt.ylim([-2, ymax])\n",
    "    plt.xlim([0, xmax])\n",
    "    plt.xticks(fontsize=16)\n",
    "    plt.yticks(fontsize=16)\n",
    "    plt.xlabel(\"Time (h)\", fontsize=16)\n",
    "    plt.ylabel(\"Cell density (a.u.)\", fontsize=16)\n",
    "    plt.grid(axis=\"y\")"
   ]
  },
  {
   "cell_type": "code",
   "execution_count": 31,
   "metadata": {},
   "outputs": [],
   "source": [
    "recon_df = pd.read_csv(\"../Data/Growth_data/Reconstructions/Reconstruction_dataframe.tsv\", index_col=0, sep=\"\\t\")\n",
    "recon_df[\"strain\"] = recon_df[\"clean_strain\"]\n",
    "recon_exclude_strains = [\"OCTA1-9\", \"OCTA2-14\", \"metJ_relA_clsA\"]\n",
    "recon_df = recon_df[~recon_df[\"strain\"].isin(recon_exclude_strains)]\n",
    "\n",
    "screen_df = pd.read_csv(\"../Data/Growth_data/evolved-isolate-growth-data/Evolved_isolates_data_frame.tsv\", sep=\"\\t\")\n",
    "screen_df = screen_df[screen_df[\"growth_rate\"] != 0]\n",
    "screen_df = screen_df.groupby([\"compound\", \"strain\"]).mean().reset_index()"
   ]
  },
  {
   "cell_type": "code",
   "execution_count": 32,
   "metadata": {},
   "outputs": [
    {
     "data": {
      "text/html": [
       "<div>\n",
       "<style scoped>\n",
       "    .dataframe tbody tr th:only-of-type {\n",
       "        vertical-align: middle;\n",
       "    }\n",
       "\n",
       "    .dataframe tbody tr th {\n",
       "        vertical-align: top;\n",
       "    }\n",
       "\n",
       "    .dataframe thead th {\n",
       "        text-align: right;\n",
       "    }\n",
       "</style>\n",
       "<table border=\"1\" class=\"dataframe\">\n",
       "  <thead>\n",
       "    <tr style=\"text-align: right;\">\n",
       "      <th></th>\n",
       "      <th>compound</th>\n",
       "      <th>strain</th>\n",
       "      <th>growth_rate</th>\n",
       "      <th>repl</th>\n",
       "    </tr>\n",
       "  </thead>\n",
       "  <tbody>\n",
       "    <tr>\n",
       "      <th>0</th>\n",
       "      <td>1,2-propanediol</td>\n",
       "      <td>12PD1-10</td>\n",
       "      <td>0.568962</td>\n",
       "      <td>2.0</td>\n",
       "    </tr>\n",
       "    <tr>\n",
       "      <th>1</th>\n",
       "      <td>1,2-propanediol</td>\n",
       "      <td>12PD1-2</td>\n",
       "      <td>0.612649</td>\n",
       "      <td>1.5</td>\n",
       "    </tr>\n",
       "    <tr>\n",
       "      <th>2</th>\n",
       "      <td>1,2-propanediol</td>\n",
       "      <td>12PD1-4</td>\n",
       "      <td>0.697008</td>\n",
       "      <td>2.0</td>\n",
       "    </tr>\n",
       "    <tr>\n",
       "      <th>3</th>\n",
       "      <td>1,2-propanediol</td>\n",
       "      <td>12PD2-8</td>\n",
       "      <td>0.540062</td>\n",
       "      <td>2.0</td>\n",
       "    </tr>\n",
       "    <tr>\n",
       "      <th>4</th>\n",
       "      <td>1,2-propanediol</td>\n",
       "      <td>12PD2-9</td>\n",
       "      <td>0.376147</td>\n",
       "      <td>2.0</td>\n",
       "    </tr>\n",
       "    <tr>\n",
       "      <th>...</th>\n",
       "      <td>...</td>\n",
       "      <td>...</td>\n",
       "      <td>...</td>\n",
       "      <td>...</td>\n",
       "    </tr>\n",
       "    <tr>\n",
       "      <th>219</th>\n",
       "      <td>putrescine</td>\n",
       "      <td>PUTR7-7</td>\n",
       "      <td>0.270696</td>\n",
       "      <td>1.5</td>\n",
       "    </tr>\n",
       "    <tr>\n",
       "      <th>220</th>\n",
       "      <td>putrescine</td>\n",
       "      <td>PUTR7-9</td>\n",
       "      <td>0.256668</td>\n",
       "      <td>1.5</td>\n",
       "    </tr>\n",
       "    <tr>\n",
       "      <th>221</th>\n",
       "      <td>putrescine</td>\n",
       "      <td>PUTR8-10</td>\n",
       "      <td>0.330051</td>\n",
       "      <td>1.5</td>\n",
       "    </tr>\n",
       "    <tr>\n",
       "      <th>222</th>\n",
       "      <td>putrescine</td>\n",
       "      <td>PUTR8-3</td>\n",
       "      <td>0.268784</td>\n",
       "      <td>1.5</td>\n",
       "    </tr>\n",
       "    <tr>\n",
       "      <th>223</th>\n",
       "      <td>putrescine</td>\n",
       "      <td>PUTR8-6</td>\n",
       "      <td>0.343168</td>\n",
       "      <td>1.5</td>\n",
       "    </tr>\n",
       "  </tbody>\n",
       "</table>\n",
       "<p>224 rows × 4 columns</p>\n",
       "</div>"
      ],
      "text/plain": [
       "            compound    strain  growth_rate  repl\n",
       "0    1,2-propanediol  12PD1-10     0.568962   2.0\n",
       "1    1,2-propanediol   12PD1-2     0.612649   1.5\n",
       "2    1,2-propanediol   12PD1-4     0.697008   2.0\n",
       "3    1,2-propanediol   12PD2-8     0.540062   2.0\n",
       "4    1,2-propanediol   12PD2-9     0.376147   2.0\n",
       "..               ...       ...          ...   ...\n",
       "219       putrescine   PUTR7-7     0.270696   1.5\n",
       "220       putrescine   PUTR7-9     0.256668   1.5\n",
       "221       putrescine  PUTR8-10     0.330051   1.5\n",
       "222       putrescine   PUTR8-3     0.268784   1.5\n",
       "223       putrescine   PUTR8-6     0.343168   1.5\n",
       "\n",
       "[224 rows x 4 columns]"
      ]
     },
     "execution_count": 32,
     "metadata": {},
     "output_type": "execute_result"
    }
   ],
   "source": [
    "screen_df#.groupby(\"strain\")"
   ]
  },
  {
   "cell_type": "code",
   "execution_count": 33,
   "metadata": {},
   "outputs": [],
   "source": [
    "compound_codes = {\n",
    "    \"1,2-propanediol\": \"12PD\", \"2,3-butanediol\": \"23BD\", \"HMDA\": \"HMDA\",\n",
    "    \"putrescine\": \"PUTR\", \"glutarate\": \"GLUT\", \"adipate\": \"ADIP\", \"hexanoate\": \"HEXA\",\n",
    "    \"octanoate\": \"OCTA\", \"coumarate\": \"COUM\", \"isobutyrate\": \"IBUA\", \"butanol\": \"BUT\"\n",
    "}\n",
    "\n",
    "plot_compounds = [\n",
    "    \"1,2-propanediol\", \"2,3-butanediol\",\"glutarate\", \"adipate\", \"putrescine\",  \"HMDA\", \n",
    "    \"isobutyrate\", \"coumarate\",  \"butanol\", \"octanoate\" , \"hexanoate\"\n",
    "]"
   ]
  },
  {
   "cell_type": "code",
   "execution_count": 57,
   "metadata": {},
   "outputs": [],
   "source": [
    "data = []\n",
    "\n",
    "for i, comp in enumerate(plot_compounds):\n",
    "    comp_df = recon_df[recon_df[\"compound\"] == comp]\n",
    "    baseline = float(comp_df[comp_df[\"strain\"] == \"MG1655\"][\"slope\"].iloc[0])\n",
    "    comp_df = comp_df[comp_df[\"strain\"] != \"MG1655\"].copy()\n",
    "    comp_df[\"slope\"] = comp_df[\"slope\"] - baseline\n",
    "    ale_df = comp_df[comp_df[\"strain\"].str.startswith(compound_codes[comp])].copy()\n",
    "    for c in compound_codes.values():\n",
    "        comp_df = comp_df[~comp_df[\"strain\"].str.startswith(c)]\n",
    "    comp_df = comp_df.copy()\n",
    "    comp_df[\"type\"] = \"Reconstructed\"\n",
    "    ale_df[\"type\"] = \"ALE\"\n",
    "    #data.append(ale_df)\n",
    "    ale_df = screen_df[screen_df[\"compound\"] == comp]\n",
    "    ale_mg_rate = ale_df[ale_df[\"strain\"] == \"MG1655\"][\"growth_rate\"].mean()\n",
    "    ale_df = ale_df[ale_df[\"strain\"] != \"MG1655\"].copy()\n",
    "    ale_df[\"slope\"] = ale_df[\"growth_rate\"] - ale_mg_rate\n",
    "    ale_df[\"type\"] = \"ALE\"\n",
    "    data.append(comp_df)\n",
    "    data.append(ale_df)\n",
    "\n",
    "plot_df = pd.concat(data)"
   ]
  },
  {
   "cell_type": "code",
   "execution_count": 58,
   "metadata": {},
   "outputs": [],
   "source": [
    "# Ignore some errorneous measurements \n",
    "plot_df_temp = plot_df.copy()\n",
    "plot_df  = plot_df.drop(index=plot_df[plot_df.clean_strain=='sspA'].index)\n",
    "plot_df  = plot_df.drop(index=plot_df[plot_df.clean_strain=='stfE'].index)"
   ]
  },
  {
   "cell_type": "code",
   "execution_count": 59,
   "metadata": {},
   "outputs": [],
   "source": [
    "plot_df.to_csv(\"./plot_df_figF4.csv\")"
   ]
  },
  {
   "cell_type": "code",
   "execution_count": 60,
   "metadata": {},
   "outputs": [
    {
     "name": "stderr",
     "output_type": "stream",
     "text": [
      "/opt/anaconda3/envs/pymodulon/lib/python3.10/site-packages/seaborn/categorical.py:1296: UserWarning: 9.1% of the points cannot be placed; you may want to decrease the size of the markers or use stripplot.\n",
      "  warnings.warn(msg, UserWarning)\n",
      "/opt/anaconda3/envs/pymodulon/lib/python3.10/site-packages/seaborn/categorical.py:1296: UserWarning: 21.7% of the points cannot be placed; you may want to decrease the size of the markers or use stripplot.\n",
      "  warnings.warn(msg, UserWarning)\n",
      "/opt/anaconda3/envs/pymodulon/lib/python3.10/site-packages/seaborn/categorical.py:1296: UserWarning: 19.1% of the points cannot be placed; you may want to decrease the size of the markers or use stripplot.\n",
      "  warnings.warn(msg, UserWarning)\n",
      "/opt/anaconda3/envs/pymodulon/lib/python3.10/site-packages/seaborn/categorical.py:1296: UserWarning: 5.4% of the points cannot be placed; you may want to decrease the size of the markers or use stripplot.\n",
      "  warnings.warn(msg, UserWarning)\n"
     ]
    },
    {
     "data": {
      "image/png": "[encoded data removed]",
      "text/plain": [
       "<Figure size 1008x504 with 1 Axes>"
      ]
     },
     "metadata": {},
     "output_type": "display_data"
    }
   ],
   "source": [
    "plt.style.use(\"seaborn-white\")\n",
    "\n",
    "fig = plt.figure(figsize=[14, 7])\n",
    "\n",
    "mutant_names = {\n",
    "    \"metJ\":\"$\\Delta$metJ\",\n",
    "    \"metJ_acrB\":\"$\\Delta$metJ $\\Delta$acrB\",\n",
    "\n",
    "    \"metJ_relA_clsA\": \"$\\Delta$metJ $\\Delta$relA $\\Delta$clsA\",\n",
    "    \"rpsG1_mreB_ybeX\": \"$\\Delta$proV $\\Delta$ybeX rpsG1* mreB*\",\n",
    "    \"rpsG1_mreB\": \"$rpsG1* mreB*\",\n",
    "    \"kgtP_proV_ybjL\": \"$\\Delta$kgtP $\\Delta$proV $\\Delta$ybjL\",\n",
    "    \"bioAB_ompR\": \"$\\Delta$ompR bioB*\",\n",
    "    \"stfE\": \"$\\Delta$stfE\",\n",
    "    \"nadR_mprA_yhjK\": \"$\\Delta$nadR $\\Delta$mprA $\\Delta$yhjK\",\n",
    "    \"pykF_rpoS\": \"$\\Delta$pykF $\\Delta$rpoS\",\n",
    "    \"marC_rob_mppA_yobF\": \"$\\Delta$marC $\\Delta$rob $\\Delta$mmpA $\\Delta$yobF\",    \n",
    "}\n",
    "\n",
    "tick_fontsize = 11\n",
    "legend_fs = 8\n",
    "\n",
    "\n",
    "ax = fig.add_subplot(2, 2, 1)\n",
    "\n",
    "plot_df_1 = plot_df.reset_index().copy()\n",
    "plot_df_1 = plot_df_1.sort_values(\"type\", ascending=False)\n",
    "ordered_index = sorted(plot_df_1.index, key=lambda x: plot_compounds.index(plot_df_1.loc[x, \"compound\"]))\n",
    "plot_df_1 = plot_df_1.reindex(ordered_index)\n",
    "\n",
    "\n",
    "sbn.violinplot(\n",
    "    x=\"compound\", y=\"slope\", hue=\"type\", data=plot_df_1,\n",
    "    inner=None, saturation=1, palette=[\"#cccccc\"]*2, linewidth=0\n",
    ")\n",
    "sbn.swarmplot(\n",
    "    x=\"compound\", y=\"slope\", hue=\"type\", data=plot_df_1, palette=[\"#2fa5de\", \"#1f783e\"],\n",
    "    dodge=True, s=2.5\n",
    ")\n",
    "\n",
    "plt.xticks(rotation=90)\n",
    "for i in range(11):\n",
    "    plt.plot([i+0.5, i+0.5], [-.5, 1], \"-\", color=\"#777777\")\n",
    "plt.ylim([-0.5, 1])\n",
    "handles, labels = ax.get_legend_handles_labels()\n",
    "plt.legend(handles[2:], labels[2:], title=None, frameon=True, loc=\"upper left\", fontsize=legend_fs)\n",
    "plt.grid(axis=\"y\")\n",
    "plt.ylabel(\"Relative tolerance (1/h)\", fontsize=16)\n",
    "plt.xlabel(\"\")\n",
    "\n",
    "tick_labels = []\n",
    "for i, n in enumerate(plot_compounds):\n",
    "    tick_labels.append(prettify(n) + \"\\n\" if i % 2 == 0 else \"\\n\" + prettify(n))\n",
    "\n",
    "plt.xticks(range(11), tick_labels, rotation=0, fontsize=9.5)\n",
    "\n",
    "plt.savefig(\"../Plots/Figure 4a - Mechanisms.svg\", bbox_inches=\"tight\")"
   ]
  },
  {
   "cell_type": "code",
   "execution_count": 70,
   "metadata": {},
   "outputs": [],
   "source": [
    "plot_df  = plot_df.drop(index=plot_df[plot_df.compound=='octanoate'].index)\n",
    "plot_df  = plot_df.drop(index=plot_df[plot_df.compound=='butanol'].index)\n",
    "\n",
    "plot_df = plot_df.reset_index()"
   ]
  },
  {
   "cell_type": "code",
   "execution_count": 71,
   "metadata": {},
   "outputs": [
    {
     "name": "stderr",
     "output_type": "stream",
     "text": [
      "/var/folders/lb/2grw3fwd7pbf9hc08c9r8t4h0000gn/T/ipykernel_73839/822791444.py:6: FutureWarning: Dropping invalid columns in DataFrameGroupBy.quantile is deprecated. In a future version, a TypeError will be raised. Before calling .quantile, select only columns which should be valid for the function.\n",
      "  plot_ale_df = test_df.groupby([\"compound\", \"type\"]).quantile(0.75).reset_index()\n"
     ]
    },
    {
     "data": {
      "image/png": "[encoded data removed]",
      "text/plain": [
       "<Figure size 432x288 with 1 Axes>"
      ]
     },
     "metadata": {},
     "output_type": "display_data"
    }
   ],
   "source": [
    "ax = fig.add_subplot(2, 2, 3)\n",
    "test_df = plot_df.sort_values(\"slope\", ascending=False)\n",
    "plot_recon_df = test_df.groupby([\"compound\", \"type\"]).first().reset_index()\n",
    "plot_recon_df = plot_recon_df[plot_recon_df[\"type\"] == \"Reconstructed\"].set_index(\"compound\")\n",
    "\n",
    "plot_ale_df = test_df.groupby([\"compound\", \"type\"]).quantile(0.75).reset_index()\n",
    "plot_ale_df = plot_ale_df[plot_ale_df[\"type\"] == \"ALE\"].set_index(\"compound\")\n",
    "\n",
    "plot_recon_df = plot_recon_df.reindex(plot_compounds)\n",
    "plot_ale_df = plot_ale_df.reindex(plot_compounds)\n",
    "\n",
    "percentage_recon = (\n",
    "    plot_recon_df[\"slope\"] / plot_ale_df[\"slope\"] * 100\n",
    ")\n",
    "\n",
    "\n",
    "percentage_recon.plot(kind=\"bar\", color=\"#9cd4ee\")  # \"#807dfc\"\n",
    "\n",
    "plt.errorbar(\n",
    "    range(11),\n",
    "    plot_recon_df[\"slope\"] / plot_ale_df[\"slope\"] * 100,\n",
    "    plot_recon_df[\"stderr\"] / plot_ale_df[\"slope\"] * 100, \n",
    "    fmt=\".\",\n",
    "    markersize=0,\n",
    "    zorder=0,\n",
    "    color=\"k\"\n",
    ")\n",
    "\n",
    "for i, (k, v) in enumerate(percentage_recon.items()):\n",
    "    label = plot_recon_df[\"strain\"][k]\n",
    "    if (k=='octanoate') or (k=='butanol'):\n",
    "        plt.text(i-0.15, 2, \"n.s.\", rotation=90, fontsize=8)\n",
    "    else:\n",
    "        plt.text(i-0.15, 2, mutant_names[label], rotation=90, fontsize=8)\n",
    "\n",
    "tick_labels = []\n",
    "for i, (k, v) in enumerate(percentage_recon.items()):\n",
    "    label = plot_recon_df[\"strain\"][k]\n",
    "    tick_labels.append(prettify(k) + \"\\n\" if i % 2 == 0 else \"\\n\" + prettify(k) )#+ \"\\n(\" + label + \")\")\n",
    "    \n",
    "plt.ylim([0, 100])\n",
    "plt.ylabel(\"% reconstructed tolerance\", fontsize=16)\n",
    "plt.xlabel(\"\")\n",
    "plt.grid(axis=\"y\")\n",
    "plt.xticks(range(11), tick_labels, fontsize=9.5, rotation=0)\n",
    "None\n",
    "\n",
    "plt.savefig(\"../Plots/Figure 4b - Mechanisms.svg\", bbox_inches=\"tight\")"
   ]
  },
  {
   "cell_type": "code",
   "execution_count": null,
   "metadata": {},
   "outputs": [],
   "source": [
    "temp = pd.DataFrame(glut_df.columns[0:glut_df.columns.size-2])\n",
    "glut_df=glut_df.drop(columns=temp[temp[0]>30][0].values)"
   ]
  },
  {
   "cell_type": "code",
   "execution_count": null,
   "metadata": {},
   "outputs": [],
   "source": [
    "plt.subplot(2, 2, 2)\n",
    "plot_curves(glut_df, last_label=\"GLUT-evolved strains\")\n",
    "\n",
    "plt.legend(loc=\"upper left\", fontsize=legend_fs)\n",
    "plt.xticks(fontsize=tick_fontsize)\n",
    "plt.yticks(fontsize=tick_fontsize)\n",
    "\n",
    "plt.savefig(\"../Plots/Figure 4c - Mechanisms.svg\", bbox_inches=\"tight\")"
   ]
  },
  {
   "cell_type": "code",
   "execution_count": null,
   "metadata": {},
   "outputs": [],
   "source": [
    "plt.subplot(2, 2, 4)\n",
    "plot_curves(adip_df, last_label=\"ADIP-evolved strains\")\n",
    "plt.legend(loc=\"upper left\", fontsize=legend_fs)\n",
    "plt.xticks(fontsize=tick_fontsize)\n",
    "plt.yticks(fontsize=tick_fontsize)\n",
    "\n",
    "None\n",
    "#plt.tight_layout()\n",
    "plt.savefig(\"../Plots/Figure 4d - Mechanisms.svg\", bbox_inches=\"tight\")"
   ]
  },
  {
   "cell_type": "code",
   "execution_count": null,
   "metadata": {},
   "outputs": [],
   "source": []
  }
 ],
 "metadata": {
  "anaconda-cloud": {},
  "kernelspec": {
   "display_name": "Python 3 (ipykernel)",
   "language": "python",
   "name": "python3"
  },
  "language_info": {
   "codemirror_mode": {
    "name": "ipython",
    "version": 3
   },
   "file_extension": ".py",
   "mimetype": "text/x-python",
   "name": "python",
   "nbconvert_exporter": "python",
   "pygments_lexer": "ipython3",
   "version": "3.10.4"
  }
 },
 "nbformat": 4,
 "nbformat_minor": 2
}
