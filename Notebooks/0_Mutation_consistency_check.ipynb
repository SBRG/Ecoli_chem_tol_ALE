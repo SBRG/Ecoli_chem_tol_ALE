{
 "cells": [
  {
   "cell_type": "code",
   "execution_count": 90,
   "id": "15544061",
   "metadata": {},
   "outputs": [],
   "source": [
    "import pandas as pd"
   ]
  },
  {
   "cell_type": "code",
   "execution_count": 115,
   "id": "6bde01bc",
   "metadata": {},
   "outputs": [],
   "source": [
    "compounds = [\"HMDA\", \"putrescine\", \"1,2-propanediol\", \"2,3-butanediol\", \"glutarate\", \"adipate\", \"hexanoate\", \"octanoate\", \"coumarate\", \"isobutyrate\", \"butanol\"]"
   ]
  },
  {
   "cell_type": "code",
   "execution_count": null,
   "id": "345bd27e",
   "metadata": {},
   "outputs": [],
   "source": [
    "comp = compounds[0]"
   ]
  },
  {
   "cell_type": "code",
   "execution_count": 122,
   "id": "814857d2",
   "metadata": {},
   "outputs": [],
   "source": [
    "def compare_two_results (comp):\n",
    "    print (comp)\n",
    "    df_old = pd.read_csv(\"../Data/Mutation_data/Variant_calls/%s.csv\" % comp)\n",
    "    df_new = pd.read_csv(\"../Data/Mutation_data/Current_AleDB_mut_call/TOL \"+\"%s_mut.csv\" % comp)\n",
    "    df_old_2 = df_old[df_old['Mutation Type']!=\"DUP\"]\n",
    "    \n",
    "    for i in df_old_2.index:\n",
    "        df_old_2.loc[i,'Position']=int(df_old_2.loc[i,'Position'].replace(\",\",\"\"))\n",
    "        df_old_2.loc[i,'Gene']=df_old_2.loc[i,'Gene'].replace(\"  \",\" \")\n",
    "    df_old_2=df_old_2.sort_values(by='Position',ascending=True)\n",
    "    \n",
    "    for i in df_new.index:\n",
    "        df_new.loc[i,'Position']=int(df_new.loc[i,'Position'].replace(\",\",\"\"))\n",
    "    df_new=df_new.sort_values(by='Position',ascending=True)\n",
    "    \n",
    "    df_new=df_new.reset_index(drop=True)\n",
    "    df_old_2=df_old_2.reset_index(drop=True)\n",
    "    \n",
    "    for i in df_new.index:\n",
    "        df_new.loc[i,'check']=str(df_new.loc[i,'Position'])+df_new.loc[i,'Sequence Change']+df_new.loc[i,'Gene']\n",
    "    for i in df_old_2.index:\n",
    "        df_old_2.loc[i,'check']=str(df_old_2.loc[i,'Position'])+df_old_2.loc[i,'Sequence Change']+df_old_2.loc[i,'Gene']\n",
    "        \n",
    "    old_exclusive = set(df_old_2['check']).difference(df_new['check'])\n",
    "    new_exclusive = set(df_new['check'])-set(df_old_2['check'])\n",
    "    print (\"mutations in only original file\")\n",
    "    print(old_exclusive)\n",
    "    print (\"mutations in only new file\")\n",
    "    print(new_exclusive)\n",
    "    print(\"\\n\")"
   ]
  },
  {
   "cell_type": "code",
   "execution_count": 123,
   "id": "35251bf2",
   "metadata": {},
   "outputs": [
    {
     "name": "stdout",
     "output_type": "stream",
     "text": [
      "HMDA\n",
      "mutations in only original file\n",
      "{'702597(G)5→6nagA', '1299499Δ1,199\\xa0bpychE, oppA', '4188767C→TrpoC'}\n",
      "mutations in only new file\n",
      "{'1978503Δ776\\xa0bpinsB1, insA'}\n",
      "\n",
      "\n",
      "putrescine\n",
      "mutations in only original file\n",
      "{'1299499Δ1,199\\xa0bpychE, oppA', '1236007Δ50\\xa0bpycgB', '1199680IS1\\xa0(+)\\xa0+8\\xa0bpintE'}\n",
      "mutations in only new file\n",
      "{'1978503Δ776\\xa0bpinsB1, insA'}\n",
      "\n",
      "\n",
      "1,2-propanediol\n",
      "mutations in only original file\n",
      "set()\n",
      "mutations in only new file\n",
      "{'1978503Δ776\\xa0bpinsB1, insA', '1708662C→GrsxC'}\n",
      "\n",
      "\n",
      "2,3-butanediol\n",
      "mutations in only original file\n",
      "{'1299499Δ1,199\\xa0bpychE, oppA'}\n",
      "mutations in only new file\n",
      "{'1978503Δ776\\xa0bpinsB1, insA'}\n",
      "\n",
      "\n",
      "glutarate\n",
      "mutations in only original file\n",
      "set()\n",
      "mutations in only new file\n",
      "{'1978503Δ776\\xa0bpinsB1, insA'}\n",
      "\n",
      "\n",
      "adipate\n",
      "mutations in only original file\n",
      "set()\n",
      "mutations in only new file\n",
      "{'1978503Δ776\\xa0bpinsB1, insA'}\n",
      "\n",
      "\n",
      "hexanoate\n",
      "mutations in only original file\n",
      "{'1299499Δ1,199\\xa0bpychE, oppA'}\n",
      "mutations in only new file\n",
      "{'1978503Δ776\\xa0bpinsB1, insA'}\n",
      "\n",
      "\n",
      "octanoate\n",
      "mutations in only original file\n",
      "{'1299499Δ1,199\\xa0bpychE, oppA'}\n",
      "mutations in only new file\n",
      "{'1978503Δ776\\xa0bpinsB1, insA'}\n",
      "\n",
      "\n",
      "coumarate\n",
      "mutations in only original file\n",
      "{'1299499Δ1,199\\xa0bpychE, oppA', '260217Δ13,738\\xa0bp21 genesproB>21 genesproB, proA, thrW, ykfN, ykfI, yafW, ykfH, ykfG, yafX, ykfF, ykfB, yafY, ykfL, ykfK, yafZ, ykfA, perR, insN, insI1, insN, > [ykfC]'}\n",
      "mutations in only new file\n",
      "{'1978503Δ776\\xa0bpinsB1, insA', '260217Δ13,738\\xa0bpproB, proA, thrW, ykfN, ykfI, yafW, ykfH, ykfG, yafX, ykfF, ykfB, yafY, ykfL, ykfK, yafZ, ykfA, perR, insN, insI1, insN, [ykfC]'}\n",
      "\n",
      "\n",
      "isobutyrate\n",
      "mutations in only original file\n",
      "{'1995819Δ40,006\\xa0bp50 genesyecF>50 genes[yecF], sdiA, yecC, yecS, dcyD, fliY, fliZ, fliA, fliC, fliD, fliS, fliT, amyA, yedD, yedE, yedF, yedK, yedL, yedN, yedN, yedN, intG, fliE, fliF, fliG, fliH, fliI, fliJ, fliK, fliL, fliM, fliN, fliO, fliP, fliQ, fliR, rcsA, dsrB, yodD, yedP, yedQ, yodC, yedI, yedA, vsr, dcm, yedJ, yedR, yedS, > yedS', '255591Δ18,364\\xa0bp27 genespepD>27 genes[pepD], gpt, frsA, crl, crl, phoE, proB, proA, thrW, ykfN, ykfI, yafW, ykfH, ykfG, yafX, ykfF, ykfB, yafY, ykfL, ykfK, yafZ, ykfA, perR, insN, insI1, insN, > [ykfC]'}\n",
      "mutations in only new file\n",
      "{'255591Δ18,364\\xa0bp[pepD], gpt, frsA, crl, crl, phoE, proB, proA, thrW, ykfN, ykfI, yafW, ykfH, ykfG, yafX, ykfF, ykfB, yafY, ykfL, ykfK, yafZ, ykfA, perR, insN, insI1, insN, [ykfC]', '1978503Δ776\\xa0bpinsB1, insA', '1995819Δ40,006\\xa0bp[yecF], sdiA, yecC, yecS, dcyD, fliY, fliZ, fliA, fliC, fliD, fliS, fliT, amyA, yedD, yedE, yedF, yedK, yedL, yedN, yedN, yedN, intG, fliE, fliF, fliG, fliH, fliI, fliJ, fliK, fliL, fliM, fliN, fliO, fliP, fliQ, fliR, rcsA, dsrB, yodD, yedP, yedQ, yodC, yedI, yedA, vsr, dcm, yedJ, yedR, yedS, yedS'}\n",
      "\n",
      "\n",
      "butanol\n",
      "mutations in only original file\n",
      "{'1299499Δ1,199\\xa0bpychE, oppA'}\n",
      "mutations in only new file\n",
      "{'226280A→GrrlH', '226301G→ArrlH', '226278G→ArrlH', '2263092\\xa0bp→AGrrlH', '226354T→ArrlH', '226262A→TrrlH', '2263074\\xa0bp→TTAGrrlH', '1978503Δ776\\xa0bpinsB1, insA', '226305Δ1\\xa0bprrlH', '226248C→ArrlH', '226299A→CrrlH'}\n",
      "\n",
      "\n"
     ]
    }
   ],
   "source": [
    "for i in range(0,len (compounds)):\n",
    "    compare_two_results(compounds[i])"
   ]
  }
 ],
 "metadata": {
  "kernelspec": {
   "display_name": "Python 3 (ipykernel)",
   "language": "python",
   "name": "python3"
  },
  "language_info": {
   "codemirror_mode": {
    "name": "ipython",
    "version": 3
   },
   "file_extension": ".py",
   "mimetype": "text/x-python",
   "name": "python",
   "nbconvert_exporter": "python",
   "pygments_lexer": "ipython3",
   "version": "3.9.7"
  }
 },
 "nbformat": 4,
 "nbformat_minor": 5
}
