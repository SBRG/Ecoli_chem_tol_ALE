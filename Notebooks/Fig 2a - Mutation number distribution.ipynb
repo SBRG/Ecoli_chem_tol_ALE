{
 "cells": [
  {
   "cell_type": "markdown",
   "metadata": {},
   "source": [
    "## Make plots of the distribution of mutations and duplications in the evolved strains"
   ]
  },
  {
   "cell_type": "code",
   "execution_count": 1,
   "metadata": {},
   "outputs": [],
   "source": [
    "import json\n",
    "import seaborn as sbn\n",
    "import pandas as pd\n",
    "import matplotlib.pyplot as plt"
   ]
  },
  {
   "cell_type": "code",
   "execution_count": 2,
   "metadata": {},
   "outputs": [],
   "source": [
    "%matplotlib inline"
   ]
  },
  {
   "cell_type": "code",
   "execution_count": 3,
   "metadata": {},
   "outputs": [],
   "source": [
    "plt.rcParams['svg.fonttype'] = 'none'"
   ]
  },
  {
   "cell_type": "code",
   "execution_count": 4,
   "metadata": {},
   "outputs": [],
   "source": [
    "with open(\"../Data/Mutation_data/Strain_to_genes.json\") as infile:\n",
    "    strain_to_genes = json.load(infile)\n",
    "    \n",
    "with open(\"../Data/Mutation_data/All_strains_to_mutations.json\") as infile:\n",
    "    strain_to_mutations = json.load(infile)"
   ]
  },
  {
   "cell_type": "code",
   "execution_count": 5,
   "metadata": {},
   "outputs": [],
   "source": [
    "compound_order =['12PD', '23BD','GLUT', 'ADIP',  'PUTR', 'HMDA', 'IBUA', 'COUM', 'BUT',\n",
    "       'OCTA', 'HEXA']"
   ]
  },
  {
   "cell_type": "code",
   "execution_count": 6,
   "metadata": {},
   "outputs": [],
   "source": [
    "mut_df = pd.DataFrame({s: {m: 1 for m in strain_to_mutations[s]} for s in strain_to_genes}).fillna(0)\n",
    "dup_df = mut_df[mut_df.index.str.startswith(\"DUP\")]\n",
    "mut_df = mut_df[~mut_df.index.isin(dup_df.index)]\n",
    "\n",
    "duplication_lengths = dup_df.index.map(lambda x: int(x.split(\"_\")[0][4:].split(\"-\")[1].replace(\",\", \"\")))\n",
    "dup_df = (dup_df.transpose() * duplication_lengths).transpose()\n",
    "\n",
    "plot_df = pd.DataFrame({\"Mutations\": mut_df.sum(0), \"Duplications\": dup_df.sum(0)})\n",
    "plot_df.index.name = \"Strain\"\n",
    "plot_df[\"Compound\"] = plot_df.index.map(lambda x: x.split(\"-\")[0][:-1])\n",
    "plot_df = plot_df[plot_df[\"Compound\"].isin(compound_order)]\n",
    "plot_df = plot_df.reindex(sorted(plot_df.index, key=lambda x: compound_order.index(plot_df[\"Compound\"].get(x))))"
   ]
  },
  {
   "cell_type": "code",
   "execution_count": 7,
   "metadata": {},
   "outputs": [
    {
     "data": {
      "text/plain": [
       "6.03125"
      ]
     },
     "execution_count": 7,
     "metadata": {},
     "output_type": "execute_result"
    }
   ],
   "source": [
    "plot_df.Mutations.mean()"
   ]
  },
  {
   "cell_type": "code",
   "execution_count": 50,
   "metadata": {},
   "outputs": [],
   "source": [
    "plot_df.to_csv(\"plot_df.csv\")"
   ]
  },
  {
   "cell_type": "code",
   "execution_count": 8,
   "metadata": {},
   "outputs": [
    {
     "data": {
      "image/png": "[encoded data removed]",
      "text/plain": [
       "<Figure size 360x648 with 2 Axes>"
      ]
     },
     "metadata": {
      "needs_background": "light"
     },
     "output_type": "display_data"
    }
   ],
   "source": [
    "plt.figure(figsize=[5, 9])\n",
    "\n",
    "color = \"#5490bb\"\n",
    "\n",
    "plt.subplot(2, 1, 1)\n",
    "y_max = 16\n",
    "sbn.boxplot(x=\"Compound\", y=\"Mutations\", data=plot_df, color=color)\n",
    "plt.xticks(rotation=90)\n",
    "plt.ylim([0, y_max])\n",
    "plt.xlabel(\"\")\n",
    "plt.ylabel(\"Mutations\", fontsize=14)\n",
    "plt.hlines(xmin=-0.5, xmax=10.5, y=plot_df.Mutations.mean(), linestyles='dashed')\n",
    "\n",
    "# Print numbers that are too large to fit in figure\n",
    "plt.text(3-0.25, 0.92 * y_max, str(int(plot_df[\"Mutations\"][\"GLUT7-7\"])), size=10)\n",
    "\n",
    "plt.subplot(2, 1, 2)\n",
    "y_max = 300000-1\n",
    "sbn.boxplot(x=\"Compound\", y=\"Duplications\", data=plot_df, color=color)\n",
    "plt.xticks(rotation=90)\n",
    "plt.ylim([0, y_max])\n",
    "plt.xlabel(\"\")\n",
    "\n",
    "# Print numbers that are too large to fit in figure\n",
    "plt.text(2-0.59, 0.87 * y_max, str(int(plot_df[\"Duplications\"][\"23BD4-4\"])), size=8)\n",
    "plt.text(2-0.59, 0.92 * y_max, str(int(plot_df[\"Duplications\"][\"23BD5-1\"])), size=8)\n",
    "plt.text(8-0.65, 0.92 * y_max, str(int(plot_df[\"Duplications\"][\"COUM2-3\"])), size=8)\n",
    "plt.ylabel(\"Duplicated bp (x $10^4$)\", fontsize=14)\n",
    "plt.yticks(range(0, 250001, 50000), [\"0\", \"5\", \"10\", \"15\", \"20\", \"25\"])\n",
    "\n",
    "plt.savefig(\"../Plots/Figure 2b - Mutation distributions.svg\", transparent=True)\n",
    "\n",
    "None"
   ]
  },
  {
   "cell_type": "code",
   "execution_count": 52,
   "metadata": {},
   "outputs": [],
   "source": [
    "new_ticklabel=plot_df['Compound'].value_counts().to_dict()\n",
    "\n",
    "for i in new_ticklabel.keys():\n",
    "    new_name = i+' ('+str(new_ticklabel.get(i))+')'\n",
    "    new_ticklabel.update([(i,new_name)])"
   ]
  },
  {
   "cell_type": "code",
   "execution_count": 53,
   "metadata": {},
   "outputs": [
    {
     "data": {
      "text/plain": [
       "{'GLUT': 'GLUT (24)',\n",
       " 'PUTR': 'PUTR (20)',\n",
       " 'COUM': 'COUM (20)',\n",
       " 'BUT': 'BUT (20)',\n",
       " 'HEXA': 'HEXA (20)',\n",
       " 'IBUA': 'IBUA (19)',\n",
       " '23BD': '23BD (17)',\n",
       " 'ADIP': 'ADIP (17)',\n",
       " 'OCTA': 'OCTA (17)',\n",
       " 'HMDA': 'HMDA (15)',\n",
       " '12PD': '12PD (3)'}"
      ]
     },
     "execution_count": 53,
     "metadata": {},
     "output_type": "execute_result"
    }
   ],
   "source": [
    "new_ticklabel"
   ]
  },
  {
   "cell_type": "code",
   "execution_count": 54,
   "metadata": {},
   "outputs": [
    {
     "data": {
      "text/plain": [
       "ADIP    10\n",
       "COUM     9\n",
       "GLUT     8\n",
       "HMDA     6\n",
       "IBUA     6\n",
       "HEXA     5\n",
       "23BD     4\n",
       "PUTR     4\n",
       "OCTA     3\n",
       "12PD     2\n",
       "BUT      2\n",
       "Name: Compound, dtype: int64"
      ]
     },
     "execution_count": 54,
     "metadata": {},
     "output_type": "execute_result"
    }
   ],
   "source": [
    "plot_df[plot_df['Duplications']!=0]['Compound'].value_counts()"
   ]
  }
 ],
 "metadata": {
  "kernelspec": {
   "display_name": "Python 3 (ipykernel)",
   "language": "python",
   "name": "python3"
  },
  "language_info": {
   "codemirror_mode": {
    "name": "ipython",
    "version": 3
   },
   "file_extension": ".py",
   "mimetype": "text/x-python",
   "name": "python",
   "nbconvert_exporter": "python",
   "pygments_lexer": "ipython3",
   "version": "3.10.4"
  }
 },
 "nbformat": 4,
 "nbformat_minor": 2
}
