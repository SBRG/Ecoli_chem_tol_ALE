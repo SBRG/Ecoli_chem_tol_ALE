{
 "cells": [
  {
   "cell_type": "markdown",
   "metadata": {},
   "source": [
    "# Processing mutations"
   ]
  },
  {
   "cell_type": "markdown",
   "metadata": {},
   "source": [
    "The variant calls from the BreSeq pipeline are parsed and analysed. All strains with _mutX_ mutations are excluded as they accumulate SNPs at a very high rate, masking interesting mutations.\n",
    "\n",
    "Mutations that are present in all strains are also excluded as they have most likely also been in the background strain, prior to the evolution experiments."
   ]
  },
  {
   "cell_type": "code",
   "execution_count": 1,
   "metadata": {},
   "outputs": [],
   "source": [
    "import pandas as pd\n",
    "import json\n",
    "import copy\n",
    "import matplotlib.pyplot as plt\n",
    "import numpy as np"
   ]
  },
  {
   "cell_type": "code",
   "execution_count": 2,
   "metadata": {},
   "outputs": [],
   "source": [
    "%matplotlib inline"
   ]
  },
  {
   "cell_type": "code",
   "execution_count": 3,
   "metadata": {},
   "outputs": [],
   "source": [
    "compounds = [\"HMDA\", \"putrescine\", \"1,2-propanediol\", \"2,3-butanediol\", \"glutarate\", \"adipate\", \"hexanoate\", \"octanoate\", \"coumarate\", \"isobutyrate\", \"butanol\"]\n",
    "\n",
    "mapping = pd.read_csv(\"../Data/Mutation_data/Variant_calls/mapping.csv\", header=None)\n",
    "compound_mapping = {\n",
    "    1: \"butanol\",\n",
    "    2: \"glutarate\",\n",
    "    3: \"coumarate\",\n",
    "    5: \"HMDA\",\n",
    "    6: \"putrescine\",\n",
    "    7: \"adipate\",\n",
    "    8: \"isobutyrate\",\n",
    "    9: \"hexanoate\",\n",
    "    10: \"2,3-butanediol\",\n",
    "    11: \"1,2-propanediol\",\n",
    "    12: \"octanoate\"\n",
    "}\n",
    "rev_compound_mapping = {v: k for k, v in compound_mapping.items()}\n",
    "\n",
    "code_to_compound = {\n",
    "    \"BUT\": \"butanol\",\n",
    "    \"GLUT\": \"glutarate\",\n",
    "    \"COUM\": \"coumarate\",\n",
    "    \"HMDA\": \"HMDA\",\n",
    "    \"PUTR\": \"putrescine\",\n",
    "    \"ADIP\": \"adipate\",\n",
    "    \"IBUA\": \"isobutyrate\",\n",
    "    \"HEXA\": \"hexanoate\",\n",
    "    \"23BD\": \"2,3-butanediol\",\n",
    "    \"12PD\": \"1,2-propanediol\",\n",
    "    \"OCTA\": \"octanoate\"\n",
    "}\n",
    "comp_to_code = {v: k for k, v in code_to_compound.items()}"
   ]
  },
  {
   "cell_type": "markdown",
   "metadata": {},
   "source": [
    "Generate a mutation id from the information from BreSeq.\n"
   ]
  },
  {
   "cell_type": "code",
   "execution_count": 4,
   "metadata": {},
   "outputs": [],
   "source": [
    "def generate_mut_id(row):\n",
    "    typ = row[\"Mutation Type\"]\n",
    "    pos = str(int(row[\"Position\"].replace(\",\", \"\")))\n",
    "    if typ == \"SNP\":\n",
    "        last = row[\"Sequence Change\"][-1]\n",
    "    elif typ == \"DEL\":\n",
    "        if \"(\" in row[\"Sequence Change\"]:\n",
    "            last = str(len(row[\"Sequence Change\"].split(\")\")[0][1:]))\n",
    "        else:\n",
    "            last = str(int(row[\"Sequence Change\"][1:-3].replace(\",\", \"\")))\n",
    "    elif typ == \"INS\":\n",
    "        if \"(\" in row[\"Sequence Change\"]:\n",
    "            last = row[\"Sequence Change\"].split(\")\")[0][1:]\n",
    "        else:\n",
    "            last = row[\"Sequence Change\"][1:]\n",
    "    elif typ == \"MOB\":\n",
    "        fields = row[\"Sequence Change\"].split(\"\\xa0\")\n",
    "        last = fields[0] + \"-\" + fields[2][1:]\n",
    "    elif typ == \"DUP\":\n",
    "        times = row[\"Sequence Change\"].split(\"x\")[-1]\n",
    "        size = row[\"Sequence Change\"].split(\" bp \")[0]\n",
    "        last = size + \"_\" + times\n",
    "    else:\n",
    "        last = \"\"\n",
    "    return \"-\".join((typ, pos, last))"
   ]
  },
  {
   "cell_type": "markdown",
   "metadata": {},
   "source": [
    "Convert the strain code from the breseq results to the real strain names using the mapping file."
   ]
  },
  {
   "cell_type": "code",
   "execution_count": 5,
   "metadata": {},
   "outputs": [],
   "source": [
    "def strain_code_to_name(strain_code, compound):\n",
    "    compound_num = rev_compound_mapping[compound]\n",
    "    fields = strain_code.split(\" \")[-4:]\n",
    "    fields = [f[1:] for f in fields]\n",
    "    code = (int(fields[0]), int(fields[2]), int(fields[3]))\n",
    "    strain = mapping[mapping[0] == compound_num].groupby(by=[1, 2, 3]).first().loc[code][4]\n",
    "    return strain"
   ]
  },
  {
   "cell_type": "code",
   "execution_count": 6,
   "metadata": {},
   "outputs": [],
   "source": [
    "def convert_to_int(string):\n",
    "    if string[0] == \"‑\": # Weird non-standard minus sign\n",
    "        string = \"-\" + string[1:] # Replace with normal minus sign\n",
    "    return int(string)\n",
    "\n",
    "def pick_gene(rel_coords):\n",
    "    \"\"\"Given relative coordinates of an intergenic mutation, pick the gene that is closest downstream\"\"\"\n",
    "    if min(rel_coords) > 0:\n",
    "        return None\n",
    "    elif max(rel_coords) <= 0:\n",
    "        if rel_coords[0] > rel_coords[1]:\n",
    "            return 0\n",
    "        else:\n",
    "            return 1\n",
    "    elif rel_coords[0] <= 0:\n",
    "        return 0\n",
    "    elif rel_coords[1] <= 0:\n",
    "        return 1\n",
    "    else:\n",
    "        raise RuntimeError(\"What else is there?\")"
   ]
  },
  {
   "cell_type": "code",
   "execution_count": 7,
   "metadata": {},
   "outputs": [],
   "source": [
    "excluded_mutations = {\n",
    "    'DEL-1299499-1199', # Randomly called across populations DEL ychE/oppA intergenic(+254/-485)\n",
    "}"
   ]
  },
  {
   "cell_type": "code",
   "execution_count": 8,
   "metadata": {},
   "outputs": [],
   "source": [
    "strain_to_muts = {}\n",
    "mut_to_genes = {}\n",
    "mut_to_change = {}\n",
    "\n",
    "for comp in compounds:\n",
    "    df = pd.read_csv(\"../Data/Mutation_data/Variant_calls/%s.csv\" % comp)\n",
    "    df[\"mut_id\"] = df.apply(generate_mut_id, 1)\n",
    "    \n",
    "    for idx, row in df.iterrows():\n",
    "        genes = row[\"Gene\"]\n",
    "        if \"genes\" in genes:\n",
    "            genes = genes.split(\"genes\")[-1] # Fix inconsistent format for large deletions\n",
    "        genes = genes.split(\", \")\n",
    "        genes = [gene.strip(\"[] >\") for gene in genes]\n",
    "        change = row[\"Protein change\"]\n",
    "        if isinstance(change, str) and change.startswith(\"intergenic\"):\n",
    "            nums = change.split(\"(\")[1][:-1].split(\"/\")\n",
    "            nums = convert_to_int(nums[0]), convert_to_int(nums[1])\n",
    "            nearest = pick_gene(nums)\n",
    "            if nearest is None:\n",
    "                genes = []\n",
    "            else:\n",
    "                genes = [genes[nearest]]\n",
    "                \n",
    "        mut_id = row[\"mut_id\"]\n",
    "        mut_to_genes[mut_id] = genes\n",
    "        mut_to_change[mut_id] = change\n",
    "        \n",
    "    for strain_code in df.columns[10:]:\n",
    "        if strain_code == \"mut_id\":\n",
    "            continue\n",
    "        strain = strain_code_to_name(strain_code, comp)\n",
    "        if strain.endswith(\"-rerun\"):\n",
    "            strain = strain[:-6]\n",
    "\n",
    "        muts = list(df[df[strain_code] == 1][\"mut_id\"])\n",
    "        strain_to_muts[strain] = set(muts) #- excluded_mutations"
   ]
  },
  {
   "cell_type": "code",
   "execution_count": 9,
   "metadata": {},
   "outputs": [],
   "source": [
    "# Save the protein effect of all SNP mutations\n",
    "mut_effects = {}\n",
    "for mut, change in mut_to_change.items():\n",
    "    typ = mut.split(\"-\")[0]\n",
    "    if typ == \"SNP\":\n",
    "        if \"intergenic\" in change:\n",
    "            effect = \"intergenic\"\n",
    "        elif \"pseudogene\" in change:\n",
    "            effect = \"pseudogene\"\n",
    "        else:\n",
    "            subs = change.split()[0]\n",
    "            effect = subs\n",
    "    else:\n",
    "        effect = \"\"\n",
    "        if change == change and typ != \"DUP\":\n",
    "            effect = change.split()[0]\n",
    "            # print(typ, change)\n",
    "    mut_effects[mut] = (typ, effect)\n",
    "    \n",
    "with open(\"../Data/Mutation_data/Mutation_effects.json\", \"w\") as outfile:\n",
    "    json.dump(mut_effects, outfile)"
   ]
  },
  {
   "cell_type": "code",
   "execution_count": 10,
   "metadata": {},
   "outputs": [
    {
     "name": "stdout",
     "output_type": "stream",
     "text": [
      "There are 224 strains with a total of 3754 mutations.\n"
     ]
    }
   ],
   "source": [
    "print(\n",
    "    \"There are\",\n",
    "    len(strain_to_muts),\n",
    "    \"strains with a total of\",\n",
    "    len(set.union(*strain_to_muts.values())), \"mutations.\"\n",
    ")"
   ]
  },
  {
   "cell_type": "code",
   "execution_count": 11,
   "metadata": {},
   "outputs": [],
   "source": [
    "# Create overview table of mutations in all strains\n",
    "mut_df = pd.DataFrame({s: {m: 1 for m in muts} for s, muts in strain_to_muts.items()}).fillna(0).astype(\"int\")\n",
    "mut_df.to_csv(\"../Data/Mutation_data/strain_mutation_table.tsv\", sep=\"\\t\")"
   ]
  },
  {
   "cell_type": "code",
   "execution_count": 12,
   "metadata": {},
   "outputs": [],
   "source": [
    "strain_to_genes = {}\n",
    "\n",
    "# Add genes that are specifically mutated (mutation only has 1 gene target)\n",
    "for strain, muts in strain_to_muts.items():\n",
    "    for mut in muts:\n",
    "        if len(mut_to_genes[mut]) == 1:\n",
    "            strain_to_genes.setdefault(strain, []).append(mut_to_genes[mut][0])\n",
    "            \n",
    "strain_to_genes = {k: set(v) for k, v in strain_to_genes.items()}\n",
    "\n",
    "certain_mutations = {\n",
    "    comp: set.union(*(v for k, v in strain_to_genes.items() if k.startswith(comp))) for comp in code_to_compound\n",
    "}\n",
    "strain_to_all_genes = copy.deepcopy(strain_to_genes)\n",
    "\n",
    "# For mutations that affect multiple genes: only add genes that are already mutated in strains from that compound\n",
    "# (or mutator genes)\n",
    "for comp in code_to_compound:\n",
    "    for strain in (s for s in strain_to_muts if s.startswith(comp)):\n",
    "        for mut in strain_to_muts[strain]:\n",
    "            if mut.startswith(\"DUP\"):\n",
    "                continue\n",
    "            if len(mut_to_genes[mut]) > 1:\n",
    "                for gene in mut_to_genes[mut]:\n",
    "                    strain_to_all_genes[strain].add(gene)\n",
    "                    if gene in certain_mutations[comp] or gene.startswith(\"mut\"):\n",
    "                        strain_to_genes[strain].add(gene)"
   ]
  },
  {
   "cell_type": "code",
   "execution_count": 13,
   "metadata": {},
   "outputs": [
    {
     "name": "stdout",
     "output_type": "stream",
     "text": [
      "A total of 2032 genes are mutated.\n"
     ]
    }
   ],
   "source": [
    "print(\n",
    "    \"A total of\",\n",
    "    len(set.union(*strain_to_all_genes.values())),\n",
    "    \"genes are mutated.\"\n",
    ")"
   ]
  },
  {
   "cell_type": "code",
   "execution_count": 14,
   "metadata": {},
   "outputs": [],
   "source": [
    "# Hypermutators are strains with mutations in a mutX gene\n",
    "hypermutators = [s for s, genes in strain_to_genes.items() if \"mut\" in set(g[:3] for g in genes)]\n",
    "non_hypermutators = set(strain_to_genes) - set(hypermutators)"
   ]
  },
  {
   "cell_type": "code",
   "execution_count": 15,
   "metadata": {},
   "outputs": [
    {
     "name": "stdout",
     "output_type": "stream",
     "text": [
      "There are no mutations identified in ADIP4-1\n"
     ]
    }
   ],
   "source": [
    "print(\n",
    "    \"There are no mutations identified in\",\n",
    "    mut_df.T[mut_df.sum(axis=0)==0].index.values[0]\n",
    ")"
   ]
  },
  {
   "cell_type": "code",
   "execution_count": 16,
   "metadata": {},
   "outputs": [
    {
     "name": "stdout",
     "output_type": "stream",
     "text": [
      "There are 31 hypermutator strains\n"
     ]
    }
   ],
   "source": [
    "print(\n",
    "    \"There are\",\n",
    "    len(hypermutators),\n",
    "    \"hypermutator strains\"\n",
    ")"
   ]
  },
  {
   "cell_type": "code",
   "execution_count": 17,
   "metadata": {},
   "outputs": [
    {
     "name": "stdout",
     "output_type": "stream",
     "text": [
      "There are 192 non-mutator strains with a total of 930 mutations affecting 367 genes.\n"
     ]
    }
   ],
   "source": [
    "print(\n",
    "    \"There are\",\n",
    "    len(non_hypermutators),\n",
    "    \"non-mutator strains with a total of\",\n",
    "    len(set.union(*[v for k, v in strain_to_muts.items() if k in non_hypermutators])),\n",
    "    \"mutations affecting\",\n",
    "    len(set.union(*[v for k, v in strain_to_all_genes.items() if k in non_hypermutators])),\n",
    "    \"genes.\"\n",
    ")"
   ]
  },
  {
   "cell_type": "code",
   "execution_count": 18,
   "metadata": {},
   "outputs": [],
   "source": [
    "with open(\"../Data/Mutation_data/Strain_to_genes.json\", \"w\") as outfile:\n",
    "    json.dump({k: list(v) for k, v in strain_to_genes.items() if k in non_hypermutators}, outfile)\n",
    "    \n",
    "with open(\"../Data/Mutation_data/Strain_to_all_genes.json\", \"w\") as outfile:\n",
    "    json.dump({k: list(v) for k, v in strain_to_all_genes.items() if k in non_hypermutators}, outfile)\n",
    "    \n",
    "with open(\"../Data/Mutation_data/All_strains_to_gene_names.json\", \"w\") as outfile:\n",
    "    json.dump({k: list(v) for k, v in strain_to_genes.items()}, outfile)\n",
    "    \n",
    "with open(\"../Data/Mutation_data/All_strains_to_mutations.json\", \"w\") as outfile:\n",
    "    json.dump({k: list(v) for k, v in strain_to_muts.items()}, outfile)\n",
    "    \n",
    "with open(\"../Data/Mutation_data/All_mutated_genes.txt\", \"w\") as outfile:\n",
    "    mutated_genes = set.union(*[strain_to_genes[s] for s in non_hypermutators])\n",
    "    outfile.write(\"\\n\".join(mutated_genes))\n",
    "    \n",
    "with open(\"../Data/Mutation_data/Mutations_to_gene_names.json\", \"w\") as outfile:\n",
    "    json.dump({k: v for k, v in mut_to_genes.items()}, outfile)"
   ]
  },
  {
   "cell_type": "code",
   "execution_count": 19,
   "metadata": {},
   "outputs": [
    {
     "name": "stdout",
     "output_type": "stream",
     "text": [
      "Number of mutations in each of the strains classified as a hypermutator:\n",
      "12PD1-10 \t134\n",
      "12PD1-2 \t146\n",
      "12PD1-4 \t112\n",
      "12PD2-8 \t157\n",
      "12PD2-9 \t158\n",
      "12PD3-10 \t147\n",
      "12PD3-7 \t134\n",
      "12PD3-8 \t180\n",
      "12PD4-8 \t94\n",
      "12PD4-9 \t94\n",
      "12PD5-1 \t132\n",
      "12PD5-3 \t132\n",
      "12PD7-5 \t108\n",
      "12PD7-6 \t193\n",
      "12PD8-10 \t154\n",
      "12PD8-6 \t151\n",
      "12PD8-7 \t137\n",
      "23BD3-3 \t280\n",
      "23BD3-4 \t241\n",
      "23BD3-9 \t263\n",
      "ADIP5-2 \t215\n",
      "ADIP5-6 \t181\n",
      "HMDA4-2 \t45\n",
      "HMDA4-6 \t47\n",
      "HMDA4-9 \t44\n",
      "HMDA6-3 \t85\n",
      "HMDA6-7 \t88\n",
      "IBUA3-2 \t42\n",
      "OCTA6-5 \t107\n",
      "OCTA6-6 \t108\n",
      "OCTA6-7 \t109\n"
     ]
    }
   ],
   "source": [
    "print(\"Number of mutations in each of the strains classified as a hypermutator:\")\n",
    "for s in sorted(hypermutators):\n",
    "    print(s, len(strain_to_genes[s]), sep=\" \\t\")"
   ]
  },
  {
   "cell_type": "code",
   "execution_count": 20,
   "metadata": {},
   "outputs": [],
   "source": [
    "hypermutators_df = pd.DataFrame(hypermutators, columns=[\"strain_code\"])\n",
    "hypermutators_df.to_csv(\"../Data/Mutation_data/hypermutators_list.csv\",index=False)"
   ]
  },
  {
   "cell_type": "code",
   "execution_count": 21,
   "metadata": {},
   "outputs": [
    {
     "data": {
      "text/plain": [
       "(0.0, 26.0)"
      ]
     },
     "execution_count": 21,
     "metadata": {},
     "output_type": "execute_result"
    },
    {
     "data": {
      "image/png": "[encoded data removed]",
      "text/plain": [
       "<Figure size 432x288 with 1 Axes>"
      ]
     },
     "metadata": {
      "needs_background": "light"
     },
     "output_type": "display_data"
    }
   ],
   "source": [
    "mutation_dict = {s: set(m for m in muts if not m.startswith(\"DUP\")) for s, muts in strain_to_muts.items()}\n",
    "bins = np.bincount([len(mutation_dict[s]) for s in non_hypermutators])\n",
    "plt.bar(np.array(range(len(bins))) - 0.4, bins, color=\"darkgreen\")\n",
    "plt.xlabel(\"Mutations per strain\")\n",
    "plt.ylabel(\"Count\")\n",
    "plt.xlim(0, 26)"
   ]
  },
  {
   "cell_type": "code",
   "execution_count": 22,
   "metadata": {},
   "outputs": [
    {
     "data": {
      "image/png": "[encoded data removed]",
      "text/plain": [
       "<Figure size 432x288 with 1 Axes>"
      ]
     },
     "metadata": {
      "needs_background": "light"
     },
     "output_type": "display_data"
    }
   ],
   "source": [
    "mutation_dict = {s: set(m for m in muts if not m.startswith(\"DUP\")) for s, muts in strain_to_muts.items()}\n",
    "bins = np.bincount([len(mutation_dict[s]) for s in non_hypermutators if s != \"GLUT7-7\"])\n",
    "plt.bar(np.array(range(len(bins))) - 0.4, bins, color=\"darkgreen\")\n",
    "plt.xlabel(\"Mutations per strain\", fontsize=24)\n",
    "plt.ylabel(\"Count\", fontsize=24)\n",
    "plt.xlim([0, 12])\n",
    "plt.xticks(fontsize=18)\n",
    "plt.yticks(fontsize=18)\n",
    "plt.savefig(\"../Plots/Supplementary - Strain mutation histogram.svg\")"
   ]
  },
  {
   "cell_type": "code",
   "execution_count": 23,
   "metadata": {},
   "outputs": [
    {
     "data": {
      "text/plain": [
       "(0.0, 40.0)"
      ]
     },
     "execution_count": 23,
     "metadata": {},
     "output_type": "execute_result"
    },
    {
     "data": {
      "image/png": "[encoded data removed]",
      "text/plain": [
       "<Figure size 432x288 with 1 Axes>"
      ]
     },
     "metadata": {
      "needs_background": "light"
     },
     "output_type": "display_data"
    }
   ],
   "source": [
    "num_dups = [len([m for m in muts if m.startswith(\"DUP\")]) for s, muts in strain_to_muts.items() if s in non_hypermutators]\n",
    "bins = np.bincount(num_dups)\n",
    "plt.bar(np.array(range(len(bins))) - 0.4, bins, color=\"darkgreen\")\n",
    "plt.xlabel(\"Duplications per strain\", fontsize=12)\n",
    "plt.ylabel(\"Count\", fontsize=12)\n",
    "plt.ylim([0, 140])\n",
    "plt.xlim([0, 40])\n",
    "#plt.savefig(\"../Plots/Supplementary - Strain duplication histogram.svg\")"
   ]
  },
  {
   "cell_type": "code",
   "execution_count": 24,
   "metadata": {},
   "outputs": [],
   "source": [
    "duplication_lengths = {}\n",
    "for s, muts in strain_to_muts.items():\n",
    "    dup_sum = 0\n",
    "    for mut in muts:\n",
    "        if mut.startswith(\"DUP\"):\n",
    "            dup_sum += int(\"\".join(mut.split(\"-\")[2].split(\"_\")[0].split(\",\")))\n",
    "    duplication_lengths[s] = dup_sum"
   ]
  },
  {
   "cell_type": "code",
   "execution_count": 25,
   "metadata": {},
   "outputs": [
    {
     "data": {
      "text/plain": [
       "{'12PD4-6',\n",
       " '12PD6-3',\n",
       " '12PD6-9',\n",
       " '23BD1-6',\n",
       " '23BD1-9',\n",
       " '23BD2-4',\n",
       " '23BD2-7',\n",
       " '23BD2-9',\n",
       " '23BD4-3',\n",
       " '23BD4-4',\n",
       " '23BD4-7',\n",
       " '23BD5-1',\n",
       " '23BD5-10',\n",
       " '23BD5-7',\n",
       " '23BD6-1',\n",
       " '23BD7-4',\n",
       " '23BD7-5',\n",
       " '23BD7-7',\n",
       " '23BD8-2',\n",
       " '23BD8-7',\n",
       " 'ADIP1-1',\n",
       " 'ADIP1-9',\n",
       " 'ADIP2-10',\n",
       " 'ADIP2-5',\n",
       " 'ADIP2-6',\n",
       " 'ADIP3-2',\n",
       " 'ADIP3-4',\n",
       " 'ADIP3-8',\n",
       " 'ADIP4-8',\n",
       " 'ADIP6-10',\n",
       " 'ADIP6-3',\n",
       " 'ADIP6-9',\n",
       " 'ADIP7-2',\n",
       " 'ADIP7-5',\n",
       " 'ADIP8-10',\n",
       " 'ADIP8-3',\n",
       " 'ADIP8-7',\n",
       " 'BUT1-2',\n",
       " 'BUT1-3',\n",
       " 'BUT1-5',\n",
       " 'BUT2-9',\n",
       " 'BUT3-3',\n",
       " 'BUT3-6',\n",
       " 'BUT3-7',\n",
       " 'BUT4-4',\n",
       " 'BUT4-7',\n",
       " 'BUT4-9',\n",
       " 'BUT5-2',\n",
       " 'BUT5-3',\n",
       " 'BUT6-1',\n",
       " 'BUT6-3',\n",
       " 'BUT6-8',\n",
       " 'BUT7-6',\n",
       " 'BUT7-7',\n",
       " 'BUT7-9',\n",
       " 'BUT9-10',\n",
       " 'BUT9-7',\n",
       " 'COUM1-2',\n",
       " 'COUM2-3',\n",
       " 'COUM2-4',\n",
       " 'COUM2-7',\n",
       " 'COUM3-1',\n",
       " 'COUM3-10',\n",
       " 'COUM3-9',\n",
       " 'COUM4-10',\n",
       " 'COUM4-2',\n",
       " 'COUM4-5',\n",
       " 'COUM5-3',\n",
       " 'COUM5-5',\n",
       " 'COUM5-8',\n",
       " 'COUM6-2',\n",
       " 'COUM6-5',\n",
       " 'COUM6-9',\n",
       " 'COUM7-5',\n",
       " 'COUM7-6',\n",
       " 'COUM8-1',\n",
       " 'COUM8-6',\n",
       " 'GLUT1-10',\n",
       " 'GLUT1-3',\n",
       " 'GLUT1-9',\n",
       " 'GLUT2-1',\n",
       " 'GLUT2-10',\n",
       " 'GLUT2-9',\n",
       " 'GLUT3-5',\n",
       " 'GLUT3-7',\n",
       " 'GLUT3-9',\n",
       " 'GLUT4-1',\n",
       " 'GLUT4-10',\n",
       " 'GLUT4-4',\n",
       " 'GLUT5-4',\n",
       " 'GLUT5-5',\n",
       " 'GLUT5-9',\n",
       " 'GLUT6-10',\n",
       " 'GLUT6-4',\n",
       " 'GLUT6-5',\n",
       " 'GLUT7-2',\n",
       " 'GLUT7-6',\n",
       " 'GLUT7-7',\n",
       " 'GLUT8-5',\n",
       " 'GLUT8-6',\n",
       " 'GLUT8-9',\n",
       " 'HEXA1-1',\n",
       " 'HEXA1-4',\n",
       " 'HEXA1-5',\n",
       " 'HEXA2-10',\n",
       " 'HEXA2-3',\n",
       " 'HEXA2-9',\n",
       " 'HEXA3-1',\n",
       " 'HEXA3-7',\n",
       " 'HEXA3-9',\n",
       " 'HEXA4-10',\n",
       " 'HEXA4-4',\n",
       " 'HEXA4-7',\n",
       " 'HEXA6-5',\n",
       " 'HEXA6-6',\n",
       " 'HEXA6-7',\n",
       " 'HEXA6-9',\n",
       " 'HEXA7-2',\n",
       " 'HEXA8-1',\n",
       " 'HEXA8-2',\n",
       " 'HEXA8-5',\n",
       " 'HMDA1-10',\n",
       " 'HMDA2-1',\n",
       " 'HMDA2-8',\n",
       " 'HMDA3-4',\n",
       " 'HMDA3-5',\n",
       " 'HMDA3-6',\n",
       " 'HMDA5-10',\n",
       " 'HMDA5-4',\n",
       " 'HMDA5-5',\n",
       " 'HMDA7-1',\n",
       " 'HMDA7-10',\n",
       " 'HMDA7-7',\n",
       " 'HMDA8-10',\n",
       " 'HMDA8-5',\n",
       " 'HMDA8-9',\n",
       " 'IBUA1-7',\n",
       " 'IBUA1-9',\n",
       " 'IBUA2-1',\n",
       " 'IBUA2-6',\n",
       " 'IBUA2-9',\n",
       " 'IBUA3-10',\n",
       " 'IBUA4-1',\n",
       " 'IBUA4-8',\n",
       " 'IBUA4-9',\n",
       " 'IBUA5-2',\n",
       " 'IBUA5-6',\n",
       " 'IBUA6-7',\n",
       " 'IBUA6-9',\n",
       " 'IBUA7-6',\n",
       " 'IBUA7-7',\n",
       " 'IBUA7-9',\n",
       " 'IBUA8-10',\n",
       " 'IBUA8-3',\n",
       " 'IBUA8-4',\n",
       " 'OCTA1-3',\n",
       " 'OCTA1-5',\n",
       " 'OCTA1-9',\n",
       " 'OCTA2-10',\n",
       " 'OCTA2-14',\n",
       " 'OCTA2-16',\n",
       " 'OCTA4-10',\n",
       " 'OCTA4-13',\n",
       " 'OCTA4-9',\n",
       " 'OCTA5-4',\n",
       " 'OCTA5-8',\n",
       " 'OCTA5-9',\n",
       " 'OCTA7-10',\n",
       " 'OCTA7-2',\n",
       " 'OCTA7-9',\n",
       " 'OCTA8-5',\n",
       " 'OCTA8-7',\n",
       " 'PUTR2-4',\n",
       " 'PUTR2-6',\n",
       " 'PUTR3-1',\n",
       " 'PUTR3-10',\n",
       " 'PUTR3-9',\n",
       " 'PUTR4-3',\n",
       " 'PUTR4-7',\n",
       " 'PUTR4-8',\n",
       " 'PUTR5-1',\n",
       " 'PUTR5-6',\n",
       " 'PUTR5-8',\n",
       " 'PUTR6-10',\n",
       " 'PUTR6-2',\n",
       " 'PUTR6-7',\n",
       " 'PUTR7-1',\n",
       " 'PUTR7-7',\n",
       " 'PUTR7-9',\n",
       " 'PUTR8-10',\n",
       " 'PUTR8-3',\n",
       " 'PUTR8-6'}"
      ]
     },
     "execution_count": 25,
     "metadata": {},
     "output_type": "execute_result"
    }
   ],
   "source": [
    "non_hypermutators"
   ]
  }
 ],
 "metadata": {
  "anaconda-cloud": {},
  "kernelspec": {
   "display_name": "Python 3 (ipykernel)",
   "language": "python",
   "name": "python3"
  },
  "language_info": {
   "codemirror_mode": {
    "name": "ipython",
    "version": 3
   },
   "file_extension": ".py",
   "mimetype": "text/x-python",
   "name": "python",
   "nbconvert_exporter": "python",
   "pygments_lexer": "ipython3",
   "version": "3.10.4"
  }
 },
 "nbformat": 4,
 "nbformat_minor": 1
}
