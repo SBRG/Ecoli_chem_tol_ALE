{
 "cells": [
  {
   "cell_type": "code",
   "execution_count": 1,
   "metadata": {},
   "outputs": [],
   "source": [
    "import pandas as pd\n",
    "import matplotlib.pyplot as plt\n",
    "import seaborn as sbn"
   ]
  },
  {
   "cell_type": "code",
   "execution_count": 2,
   "metadata": {},
   "outputs": [],
   "source": [
    "%matplotlib inline"
   ]
  },
  {
   "cell_type": "code",
   "execution_count": 3,
   "metadata": {},
   "outputs": [],
   "source": [
    "ale_df = pd.read_csv(\"../Data/Growth_data/evolved-isolate-growth-data/Evolved_isolates_data_frame.tsv\", sep=\"\\t\")"
   ]
  },
  {
   "cell_type": "code",
   "execution_count": 4,
   "metadata": {},
   "outputs": [],
   "source": [
    "recon_df = pd.read_csv(\"../Data/Growth_data/Reconstructions/Reconstruction_replicate_growth.csv\", index_col=0)\n",
    "\n",
    "comp_list = [\"HMDA\", \"PUTR\", \"12PD\", \"23BD\", \"GLUT\", \"ADIP\", \"HEXA\", \"OCTA\", \"IBUA\", \"COUM\", \"BUT\"]\n",
    "for comp in comp_list:\n",
    "    recon_df = recon_df[~recon_df[\"strain\"].str.startswith(comp)]\n",
    "    \n",
    "recon_df[\"replicate\"] = recon_df[\"strain\"]\n",
    "recon_df[\"strain\"] = recon_df[\"replicate\"].map(lambda x: x[:-2])"
   ]
  },
  {
   "cell_type": "code",
   "execution_count": 5,
   "metadata": {},
   "outputs": [],
   "source": [
    "plt.rcParams['svg.fonttype'] = 'none'"
   ]
  },
  {
   "cell_type": "code",
   "execution_count": 6,
   "metadata": {},
   "outputs": [],
   "source": [
    "less_frequency_mutation=[\n",
    "'acrB',\n",
    "'clsA',\n",
    "'fabR',\n",
    "'treA',\n",
    "'yfgF',\n",
    "'rzpD',\n",
    "'mpl',\n",
    "'wbbK',\n",
    "'ybeX',\n",
    "'ygaC',\n",
    "'cheR',\n",
    "'glyQ',\n",
    "'ilvH',\n",
    "'ilvN',\n",
    "'phoU',\n",
    "'yhjK',\n",
    "'ypjA',\n",
    "'stfE',\n",
    "'rlmH',\n",
    "'bioAB',\n",
    "'ompC',\n",
    "'ompR',\n",
    "'opgH',\n",
    "'proP',\n",
    "'proQ',\n",
    "'ptrA',\n",
    "'argG',\n",
    "'edd/zwf',\n",
    "'treR',\n",
    "'mppA',\n",
    "]"
   ]
  },
  {
   "cell_type": "code",
   "execution_count": 7,
   "metadata": {},
   "outputs": [],
   "source": [
    "#metJ strain deletions"
   ]
  },
  {
   "cell_type": "code",
   "execution_count": 8,
   "metadata": {},
   "outputs": [],
   "source": [
    "recon_df=recon_df.drop(index=recon_df[recon_df.strain=='metJ-lg'].index)\n",
    "recon_df=recon_df.drop(index=recon_df[recon_df.strain=='metJ-sm'].index)"
   ]
  },
  {
   "cell_type": "code",
   "execution_count": 9,
   "metadata": {},
   "outputs": [],
   "source": [
    "recon_df_drop = recon_df.copy()"
   ]
  },
  {
   "cell_type": "code",
   "execution_count": 10,
   "metadata": {},
   "outputs": [],
   "source": [
    "for i in recon_df_drop.index:\n",
    "    checker = 0\n",
    "    for j in less_frequency_mutation:\n",
    "        if j in recon_df_drop.loc[i,'strain']:\n",
    "            checker=1\n",
    "    if checker==1:\n",
    "        recon_df_drop=recon_df_drop.drop(index=i)\n",
    "            "
   ]
  },
  {
   "cell_type": "code",
   "execution_count": 11,
   "metadata": {},
   "outputs": [],
   "source": [
    "recon_df_temp=recon_df.copy()"
   ]
  },
  {
   "cell_type": "code",
   "execution_count": 12,
   "metadata": {},
   "outputs": [],
   "source": [
    "recon_df=recon_df_drop"
   ]
  },
  {
   "cell_type": "code",
   "execution_count": 13,
   "metadata": {},
   "outputs": [],
   "source": [
    "total_tested_gene = pd.DataFrame(recon_df['strain'])"
   ]
  },
  {
   "cell_type": "code",
   "execution_count": 14,
   "metadata": {},
   "outputs": [
    {
     "data": {
      "text/html": [
       "<div>\n",
       "<style scoped>\n",
       "    .dataframe tbody tr th:only-of-type {\n",
       "        vertical-align: middle;\n",
       "    }\n",
       "\n",
       "    .dataframe tbody tr th {\n",
       "        vertical-align: top;\n",
       "    }\n",
       "\n",
       "    .dataframe thead th {\n",
       "        text-align: right;\n",
       "    }\n",
       "</style>\n",
       "<table border=\"1\" class=\"dataframe\">\n",
       "  <thead>\n",
       "    <tr style=\"text-align: right;\">\n",
       "      <th></th>\n",
       "      <th>0</th>\n",
       "      <th>1</th>\n",
       "      <th>2</th>\n",
       "    </tr>\n",
       "  </thead>\n",
       "  <tbody>\n",
       "    <tr>\n",
       "      <th>1</th>\n",
       "      <td>proV</td>\n",
       "      <td>None</td>\n",
       "      <td>None</td>\n",
       "    </tr>\n",
       "    <tr>\n",
       "      <th>2</th>\n",
       "      <td>proV</td>\n",
       "      <td>rpsG1</td>\n",
       "      <td>spoT</td>\n",
       "    </tr>\n",
       "    <tr>\n",
       "      <th>4</th>\n",
       "      <td>proV</td>\n",
       "      <td>spoT</td>\n",
       "      <td>None</td>\n",
       "    </tr>\n",
       "    <tr>\n",
       "      <th>6</th>\n",
       "      <td>proV</td>\n",
       "      <td>mreB</td>\n",
       "      <td>None</td>\n",
       "    </tr>\n",
       "    <tr>\n",
       "      <th>8</th>\n",
       "      <td>proV</td>\n",
       "      <td>spoT</td>\n",
       "      <td>None</td>\n",
       "    </tr>\n",
       "    <tr>\n",
       "      <th>...</th>\n",
       "      <td>...</td>\n",
       "      <td>...</td>\n",
       "      <td>...</td>\n",
       "    </tr>\n",
       "    <tr>\n",
       "      <th>1252</th>\n",
       "      <td>pykF</td>\n",
       "      <td>None</td>\n",
       "      <td>None</td>\n",
       "    </tr>\n",
       "    <tr>\n",
       "      <th>1260</th>\n",
       "      <td>pykF</td>\n",
       "      <td>None</td>\n",
       "      <td>None</td>\n",
       "    </tr>\n",
       "    <tr>\n",
       "      <th>1261</th>\n",
       "      <td>pykF</td>\n",
       "      <td>None</td>\n",
       "      <td>None</td>\n",
       "    </tr>\n",
       "    <tr>\n",
       "      <th>1264</th>\n",
       "      <td>MG1655</td>\n",
       "      <td>None</td>\n",
       "      <td>None</td>\n",
       "    </tr>\n",
       "    <tr>\n",
       "      <th>1268</th>\n",
       "      <td>MG1655</td>\n",
       "      <td>None</td>\n",
       "      <td>None</td>\n",
       "    </tr>\n",
       "  </tbody>\n",
       "</table>\n",
       "<p>474 rows × 3 columns</p>\n",
       "</div>"
      ],
      "text/plain": [
       "           0      1     2\n",
       "1       proV   None  None\n",
       "2       proV  rpsG1  spoT\n",
       "4       proV   spoT  None\n",
       "6       proV   mreB  None\n",
       "8       proV   spoT  None\n",
       "...      ...    ...   ...\n",
       "1252    pykF   None  None\n",
       "1260    pykF   None  None\n",
       "1261    pykF   None  None\n",
       "1264  MG1655   None  None\n",
       "1268  MG1655   None  None\n",
       "\n",
       "[474 rows x 3 columns]"
      ]
     },
     "execution_count": 14,
     "metadata": {},
     "output_type": "execute_result"
    }
   ],
   "source": [
    "total_tested_gene.strain.str.split('_', expand=True)"
   ]
  },
  {
   "cell_type": "code",
   "execution_count": 15,
   "metadata": {},
   "outputs": [
    {
     "data": {
      "text/plain": [
       "57"
      ]
     },
     "execution_count": 15,
     "metadata": {},
     "output_type": "execute_result"
    }
   ],
   "source": [
    "len(total_tested_gene.strain.unique())"
   ]
  },
  {
   "cell_type": "code",
   "execution_count": 16,
   "metadata": {},
   "outputs": [],
   "source": [
    "def prettify(s):\n",
    "    if s == s.upper():\n",
    "        return s\n",
    "    else:\n",
    "        return s.capitalize()"
   ]
  },
  {
   "cell_type": "code",
   "execution_count": 17,
   "metadata": {},
   "outputs": [],
   "source": [
    "total_comp_order = [\n",
    "    \"1,2-propanediol\", \"2,3-butanediol\",\"glutarate\", \"adipate\", \"putrescine\",  \"HMDA\", \n",
    "    \"isobutyrate\", \"coumarate\",  \"butanol\", \"octanoate\" , \"hexanoate\"\n",
    "]"
   ]
  },
  {
   "cell_type": "code",
   "execution_count": 18,
   "metadata": {},
   "outputs": [
    {
     "data": {
      "image/png": "[encoded data removed]",
      "text/plain": [
       "<Figure size 720x936 with 1 Axes>"
      ]
     },
     "metadata": {
      "needs_background": "light"
     },
     "output_type": "display_data"
    }
   ],
   "source": [
    "comp_order=[\"1,2-propanediol\"]\n",
    "plt.figure(figsize=[10, 13])\n",
    "\n",
    "for i, comp in enumerate(comp_order):\n",
    "    plt.subplot(6, 2, (i % 12)+1)\n",
    "    comp_df = ale_df[ale_df[\"compound\"] == comp]\n",
    "    comp_df = comp_df[comp_df[\"growth_rate\"] != 0]\n",
    "    comp_df = pd.concat([\n",
    "        comp_df[comp_df[\"strain\"] == \"MG1655\"],\n",
    "        comp_df[comp_df[\"strain\"] != \"MG1655\"].sort_values(\"strain\")\n",
    "    ])\n",
    "\n",
    "    sbn.barplot(x=\"strain\", y=\"growth_rate\", data=comp_df, errwidth=0, color=\"lightblue\")\n",
    "    plt.xticks(rotation=90)\n",
    "    sbn.stripplot(x=\"strain\", y=\"growth_rate\", data=comp_df, color=\"black\")\n",
    "    plt.xlabel(\"\")\n",
    "    plt.ylabel(\"Growth rate ({})\".format(prettify(comp)))\n",
    "\n",
    "plt.tight_layout()\n",
    "plt.savefig(\"../Plots/Supplementary Figure 5 - Evolved tolerance.pdf\")"
   ]
  },
  {
   "cell_type": "code",
   "execution_count": 42,
   "metadata": {
    "scrolled": true
   },
   "outputs": [
    {
     "ename": "TypeError",
     "evalue": "Axes.boxplot() got an unexpected keyword argument 'errwidth'",
     "output_type": "error",
     "traceback": [
      "\u001b[0;31m---------------------------------------------------------------------------\u001b[0m",
      "\u001b[0;31mTypeError\u001b[0m                                 Traceback (most recent call last)",
      "Input \u001b[0;32mIn [42]\u001b[0m, in \u001b[0;36m<cell line: 5>\u001b[0;34m()\u001b[0m\n\u001b[1;32m     19\u001b[0m         comp_df\u001b[38;5;241m.\u001b[39mloc[i,\u001b[38;5;124m'\u001b[39m\u001b[38;5;124morder\u001b[39m\u001b[38;5;124m'\u001b[39m]\u001b[38;5;241m=\u001b[39mcomp_df\u001b[38;5;241m.\u001b[39mloc[i, \u001b[38;5;124m'\u001b[39m\u001b[38;5;124mstrain\u001b[39m\u001b[38;5;124m'\u001b[39m]\u001b[38;5;241m.\u001b[39mcount(\u001b[38;5;124m'\u001b[39m\u001b[38;5;124m_\u001b[39m\u001b[38;5;124m'\u001b[39m)\u001b[38;5;241m+\u001b[39m\u001b[38;5;241m1\u001b[39m\n\u001b[1;32m     21\u001b[0m comp_df\u001b[38;5;241m=\u001b[39mcomp_df\u001b[38;5;241m.\u001b[39msort_values(by\u001b[38;5;241m=\u001b[39m[\u001b[38;5;124m'\u001b[39m\u001b[38;5;124morder\u001b[39m\u001b[38;5;124m'\u001b[39m,\u001b[38;5;124m'\u001b[39m\u001b[38;5;124mstrain\u001b[39m\u001b[38;5;124m'\u001b[39m])\n\u001b[0;32m---> 23\u001b[0m \u001b[43msbn\u001b[49m\u001b[38;5;241;43m.\u001b[39;49m\u001b[43mboxplot\u001b[49m\u001b[43m(\u001b[49m\u001b[43mx\u001b[49m\u001b[38;5;241;43m=\u001b[39;49m\u001b[38;5;124;43m\"\u001b[39;49m\u001b[38;5;124;43mstrain\u001b[39;49m\u001b[38;5;124;43m\"\u001b[39;49m\u001b[43m,\u001b[49m\u001b[43m \u001b[49m\u001b[43my\u001b[49m\u001b[38;5;241;43m=\u001b[39;49m\u001b[38;5;124;43m\"\u001b[39;49m\u001b[38;5;124;43mslope\u001b[39;49m\u001b[38;5;124;43m\"\u001b[39;49m\u001b[43m,\u001b[49m\u001b[43m \u001b[49m\u001b[43mdata\u001b[49m\u001b[38;5;241;43m=\u001b[39;49m\u001b[43mcomp_df\u001b[49m\u001b[43m,\u001b[49m\u001b[43m \u001b[49m\u001b[43merrwidth\u001b[49m\u001b[38;5;241;43m=\u001b[39;49m\u001b[38;5;241;43m0\u001b[39;49m\u001b[43m,\u001b[49m\u001b[43m \u001b[49m\u001b[43mcolor\u001b[49m\u001b[38;5;241;43m=\u001b[39;49m\u001b[38;5;124;43m\"\u001b[39;49m\u001b[38;5;124;43mlightblue\u001b[39;49m\u001b[38;5;124;43m\"\u001b[39;49m\u001b[43m)\u001b[49m\n\u001b[1;32m     24\u001b[0m plt\u001b[38;5;241m.\u001b[39mxticks(rotation\u001b[38;5;241m=\u001b[39m\u001b[38;5;241m90\u001b[39m, fontsize\u001b[38;5;241m=\u001b[39m\u001b[38;5;241m16\u001b[39m)\n\u001b[1;32m     25\u001b[0m sbn\u001b[38;5;241m.\u001b[39mstripplot(x\u001b[38;5;241m=\u001b[39m\u001b[38;5;124m\"\u001b[39m\u001b[38;5;124mstrain\u001b[39m\u001b[38;5;124m\"\u001b[39m, y\u001b[38;5;241m=\u001b[39m\u001b[38;5;124m\"\u001b[39m\u001b[38;5;124mslope\u001b[39m\u001b[38;5;124m\"\u001b[39m, data\u001b[38;5;241m=\u001b[39mcomp_df, color\u001b[38;5;241m=\u001b[39m\u001b[38;5;124m\"\u001b[39m\u001b[38;5;124mblack\u001b[39m\u001b[38;5;124m\"\u001b[39m, size\u001b[38;5;241m=\u001b[39m\u001b[38;5;241m6\u001b[39m)\n",
      "File \u001b[0;32m/opt/anaconda3/envs/pymodulon/lib/python3.10/site-packages/seaborn/_decorators.py:46\u001b[0m, in \u001b[0;36m_deprecate_positional_args.<locals>.inner_f\u001b[0;34m(*args, **kwargs)\u001b[0m\n\u001b[1;32m     36\u001b[0m     warnings\u001b[38;5;241m.\u001b[39mwarn(\n\u001b[1;32m     37\u001b[0m         \u001b[38;5;124m\"\u001b[39m\u001b[38;5;124mPass the following variable\u001b[39m\u001b[38;5;132;01m{}\u001b[39;00m\u001b[38;5;124m as \u001b[39m\u001b[38;5;132;01m{}\u001b[39;00m\u001b[38;5;124mkeyword arg\u001b[39m\u001b[38;5;132;01m{}\u001b[39;00m\u001b[38;5;124m: \u001b[39m\u001b[38;5;132;01m{}\u001b[39;00m\u001b[38;5;124m. \u001b[39m\u001b[38;5;124m\"\u001b[39m\n\u001b[1;32m     38\u001b[0m         \u001b[38;5;124m\"\u001b[39m\u001b[38;5;124mFrom version 0.12, the only valid positional argument \u001b[39m\u001b[38;5;124m\"\u001b[39m\n\u001b[0;32m   (...)\u001b[0m\n\u001b[1;32m     43\u001b[0m         \u001b[38;5;167;01mFutureWarning\u001b[39;00m\n\u001b[1;32m     44\u001b[0m     )\n\u001b[1;32m     45\u001b[0m kwargs\u001b[38;5;241m.\u001b[39mupdate({k: arg \u001b[38;5;28;01mfor\u001b[39;00m k, arg \u001b[38;5;129;01min\u001b[39;00m \u001b[38;5;28mzip\u001b[39m(sig\u001b[38;5;241m.\u001b[39mparameters, args)})\n\u001b[0;32m---> 46\u001b[0m \u001b[38;5;28;01mreturn\u001b[39;00m \u001b[43mf\u001b[49m\u001b[43m(\u001b[49m\u001b[38;5;241;43m*\u001b[39;49m\u001b[38;5;241;43m*\u001b[39;49m\u001b[43mkwargs\u001b[49m\u001b[43m)\u001b[49m\n",
      "File \u001b[0;32m/opt/anaconda3/envs/pymodulon/lib/python3.10/site-packages/seaborn/categorical.py:2251\u001b[0m, in \u001b[0;36mboxplot\u001b[0;34m(x, y, hue, data, order, hue_order, orient, color, palette, saturation, width, dodge, fliersize, linewidth, whis, ax, **kwargs)\u001b[0m\n\u001b[1;32m   2248\u001b[0m     ax \u001b[38;5;241m=\u001b[39m plt\u001b[38;5;241m.\u001b[39mgca()\n\u001b[1;32m   2249\u001b[0m kwargs\u001b[38;5;241m.\u001b[39mupdate(\u001b[38;5;28mdict\u001b[39m(whis\u001b[38;5;241m=\u001b[39mwhis))\n\u001b[0;32m-> 2251\u001b[0m \u001b[43mplotter\u001b[49m\u001b[38;5;241;43m.\u001b[39;49m\u001b[43mplot\u001b[49m\u001b[43m(\u001b[49m\u001b[43max\u001b[49m\u001b[43m,\u001b[49m\u001b[43m \u001b[49m\u001b[43mkwargs\u001b[49m\u001b[43m)\u001b[49m\n\u001b[1;32m   2252\u001b[0m \u001b[38;5;28;01mreturn\u001b[39;00m ax\n",
      "File \u001b[0;32m/opt/anaconda3/envs/pymodulon/lib/python3.10/site-packages/seaborn/categorical.py:509\u001b[0m, in \u001b[0;36m_BoxPlotter.plot\u001b[0;34m(self, ax, boxplot_kws)\u001b[0m\n\u001b[1;32m    507\u001b[0m \u001b[38;5;28;01mdef\u001b[39;00m \u001b[38;5;21mplot\u001b[39m(\u001b[38;5;28mself\u001b[39m, ax, boxplot_kws):\n\u001b[1;32m    508\u001b[0m     \u001b[38;5;124;03m\"\"\"Make the plot.\"\"\"\u001b[39;00m\n\u001b[0;32m--> 509\u001b[0m     \u001b[38;5;28;43mself\u001b[39;49m\u001b[38;5;241;43m.\u001b[39;49m\u001b[43mdraw_boxplot\u001b[49m\u001b[43m(\u001b[49m\u001b[43max\u001b[49m\u001b[43m,\u001b[49m\u001b[43m \u001b[49m\u001b[43mboxplot_kws\u001b[49m\u001b[43m)\u001b[49m\n\u001b[1;32m    510\u001b[0m     \u001b[38;5;28mself\u001b[39m\u001b[38;5;241m.\u001b[39mannotate_axes(ax)\n\u001b[1;32m    511\u001b[0m     \u001b[38;5;28;01mif\u001b[39;00m \u001b[38;5;28mself\u001b[39m\u001b[38;5;241m.\u001b[39morient \u001b[38;5;241m==\u001b[39m \u001b[38;5;124m\"\u001b[39m\u001b[38;5;124mh\u001b[39m\u001b[38;5;124m\"\u001b[39m:\n",
      "File \u001b[0;32m/opt/anaconda3/envs/pymodulon/lib/python3.10/site-packages/seaborn/categorical.py:441\u001b[0m, in \u001b[0;36m_BoxPlotter.draw_boxplot\u001b[0;34m(self, ax, kws)\u001b[0m\n\u001b[1;32m    438\u001b[0m \u001b[38;5;28;01mif\u001b[39;00m box_data\u001b[38;5;241m.\u001b[39msize \u001b[38;5;241m==\u001b[39m \u001b[38;5;241m0\u001b[39m:\n\u001b[1;32m    439\u001b[0m     \u001b[38;5;28;01mcontinue\u001b[39;00m\n\u001b[0;32m--> 441\u001b[0m artist_dict \u001b[38;5;241m=\u001b[39m \u001b[43max\u001b[49m\u001b[38;5;241;43m.\u001b[39;49m\u001b[43mboxplot\u001b[49m\u001b[43m(\u001b[49m\u001b[43mbox_data\u001b[49m\u001b[43m,\u001b[49m\n\u001b[1;32m    442\u001b[0m \u001b[43m                         \u001b[49m\u001b[43mvert\u001b[49m\u001b[38;5;241;43m=\u001b[39;49m\u001b[43mvert\u001b[49m\u001b[43m,\u001b[49m\n\u001b[1;32m    443\u001b[0m \u001b[43m                         \u001b[49m\u001b[43mpatch_artist\u001b[49m\u001b[38;5;241;43m=\u001b[39;49m\u001b[38;5;28;43;01mTrue\u001b[39;49;00m\u001b[43m,\u001b[49m\n\u001b[1;32m    444\u001b[0m \u001b[43m                         \u001b[49m\u001b[43mpositions\u001b[49m\u001b[38;5;241;43m=\u001b[39;49m\u001b[43m[\u001b[49m\u001b[43mi\u001b[49m\u001b[43m]\u001b[49m\u001b[43m,\u001b[49m\n\u001b[1;32m    445\u001b[0m \u001b[43m                         \u001b[49m\u001b[43mwidths\u001b[49m\u001b[38;5;241;43m=\u001b[39;49m\u001b[38;5;28;43mself\u001b[39;49m\u001b[38;5;241;43m.\u001b[39;49m\u001b[43mwidth\u001b[49m\u001b[43m,\u001b[49m\n\u001b[1;32m    446\u001b[0m \u001b[43m                         \u001b[49m\u001b[38;5;241;43m*\u001b[39;49m\u001b[38;5;241;43m*\u001b[39;49m\u001b[43mkws\u001b[49m\u001b[43m)\u001b[49m\n\u001b[1;32m    447\u001b[0m color \u001b[38;5;241m=\u001b[39m \u001b[38;5;28mself\u001b[39m\u001b[38;5;241m.\u001b[39mcolors[i]\n\u001b[1;32m    448\u001b[0m \u001b[38;5;28mself\u001b[39m\u001b[38;5;241m.\u001b[39mrestyle_boxplot(artist_dict, color, props)\n",
      "File \u001b[0;32m/opt/anaconda3/envs/pymodulon/lib/python3.10/site-packages/matplotlib/__init__.py:1412\u001b[0m, in \u001b[0;36m_preprocess_data.<locals>.inner\u001b[0;34m(ax, data, *args, **kwargs)\u001b[0m\n\u001b[1;32m   1409\u001b[0m \u001b[38;5;129m@functools\u001b[39m\u001b[38;5;241m.\u001b[39mwraps(func)\n\u001b[1;32m   1410\u001b[0m \u001b[38;5;28;01mdef\u001b[39;00m \u001b[38;5;21minner\u001b[39m(ax, \u001b[38;5;241m*\u001b[39margs, data\u001b[38;5;241m=\u001b[39m\u001b[38;5;28;01mNone\u001b[39;00m, \u001b[38;5;241m*\u001b[39m\u001b[38;5;241m*\u001b[39mkwargs):\n\u001b[1;32m   1411\u001b[0m     \u001b[38;5;28;01mif\u001b[39;00m data \u001b[38;5;129;01mis\u001b[39;00m \u001b[38;5;28;01mNone\u001b[39;00m:\n\u001b[0;32m-> 1412\u001b[0m         \u001b[38;5;28;01mreturn\u001b[39;00m func(ax, \u001b[38;5;241m*\u001b[39m\u001b[38;5;28mmap\u001b[39m(sanitize_sequence, args), \u001b[38;5;241m*\u001b[39m\u001b[38;5;241m*\u001b[39mkwargs)\n\u001b[1;32m   1414\u001b[0m     bound \u001b[38;5;241m=\u001b[39m new_sig\u001b[38;5;241m.\u001b[39mbind(ax, \u001b[38;5;241m*\u001b[39margs, \u001b[38;5;241m*\u001b[39m\u001b[38;5;241m*\u001b[39mkwargs)\n\u001b[1;32m   1415\u001b[0m     auto_label \u001b[38;5;241m=\u001b[39m (bound\u001b[38;5;241m.\u001b[39marguments\u001b[38;5;241m.\u001b[39mget(label_namer)\n\u001b[1;32m   1416\u001b[0m                   \u001b[38;5;129;01mor\u001b[39;00m bound\u001b[38;5;241m.\u001b[39mkwargs\u001b[38;5;241m.\u001b[39mget(label_namer))\n",
      "\u001b[0;31mTypeError\u001b[0m: Axes.boxplot() got an unexpected keyword argument 'errwidth'"
     ]
    },
    {
     "data": {
      "image/png": "[encoded data removed]",
      "text/plain": [
       "<Figure size 576x2880 with 1 Axes>"
      ]
     },
     "metadata": {
      "needs_background": "light"
     },
     "output_type": "display_data"
    }
   ],
   "source": [
    "comp_order=total_comp_order\n",
    "\n",
    "plt.figure(figsize=[8, 40])\n",
    "\n",
    "for i, comp in enumerate(comp_order):\n",
    "    plt.subplot(12, 1, (i % 12)+1)\n",
    "    comp_df = recon_df[recon_df[\"compound\"] == comp]\n",
    "    # comp_df = comp_df[comp_df[\"growth_rate\"] != 0]\n",
    "    comp_df = pd.concat([\n",
    "        comp_df[comp_df[\"strain\"] == \"MG1655\"],\n",
    "        comp_df[comp_df[\"strain\"] != \"MG1655\"].sort_values(\"strain\")\n",
    "    ])\n",
    "    \n",
    "    #Re-ordering strains\n",
    "    for i in comp_df.index:\n",
    "        if comp_df.loc[i, 'strain']==\"MG1655\":\n",
    "            comp_df.loc[i, 'order']=int(0)\n",
    "        else:\n",
    "            comp_df.loc[i,'order']=comp_df.loc[i, 'strain'].count('_')+1\n",
    "    \n",
    "    comp_df=comp_df.sort_values(by=['order','strain'])\n",
    "\n",
    "    sbn.barplot(x=\"strain\", y=\"slope\", data=comp_df, errwidth=0, color=\"lightblue\")\n",
    "    plt.xticks(rotation=90, fontsize=16)\n",
    "    sbn.stripplot(x=\"strain\", y=\"slope\", data=comp_df, color=\"black\", size=6)\n",
    "    plt.xlabel(\"\")\n",
    "    plt.ylabel(\"Growth rate\", fontsize=16)\n",
    "    plt.yticks(fontsize=16)\n",
    "\n",
    "    \n",
    "plt.subplots_adjust(hspace=0.9)\n",
    "# plt.tight_layout()\n",
    "plt.savefig(\"../Plots/Supplementary Figure 6 - Reconstructed tolerance.svg\")"
   ]
  },
  {
   "cell_type": "code",
   "execution_count": 18,
   "metadata": {},
   "outputs": [
    {
     "data": {
      "image/png": "[encoded data removed]",
      "text/plain": [
       "<Figure size 1152x4320 with 1 Axes>"
      ]
     },
     "metadata": {
      "needs_background": "light"
     },
     "output_type": "display_data"
    }
   ],
   "source": [
    "comp_order=[\"hexanoate\"]\n",
    "\n",
    "#comp_order=total_comp_order\n",
    "\n",
    "plt.figure(figsize=[16, 60])\n",
    "\n",
    "for i, comp in enumerate(comp_order):\n",
    "    plt.subplot(12, 1, (i % 12)+1)\n",
    "    comp_df = recon_df[recon_df[\"compound\"] == comp]\n",
    "    # comp_df = comp_df[comp_df[\"growth_rate\"] != 0]\n",
    "    comp_df = pd.concat([\n",
    "        comp_df[comp_df[\"strain\"] == \"MG1655\"],\n",
    "        comp_df[comp_df[\"strain\"] != \"MG1655\"].sort_values(\"strain\")\n",
    "    ])\n",
    "\n",
    "    sbn.barplot(x=\"strain\", y=\"slope\", data=comp_df, errwidth=0, color=\"lightblue\")\n",
    "    plt.xticks(rotation=90, fontsize=12)\n",
    "    sbn.stripplot(x=\"strain\", y=\"slope\", data=comp_df, color=\"black\", size=4)\n",
    "    plt.xlabel(\"\")\n",
    "    plt.ylabel(\"Growth rate ({})\".format(prettify(comp)), fontsize=12)\n",
    "    plt.yticks(fontsize=12)\n",
    "\n",
    "    \n",
    "plt.subplots_adjust(hspace=0.9)\n",
    "# plt.tight_layout()\n",
    "plt.savefig(\"../Plots/Supplementary Figure 6 - Reconstructed tolerance.svg\")"
   ]
  },
  {
   "cell_type": "code",
   "execution_count": null,
   "metadata": {},
   "outputs": [],
   "source": [
    "comp_order=[\"coumarate\"]\n",
    "\n",
    "plt.figure(figsize=[12, 80])\n",
    "\n",
    "for i, comp in enumerate(comp_order):\n",
    "    plt.subplot(12, 1, (i % 12)+1)\n",
    "    comp_df = recon_df[recon_df[\"compound\"] == comp]\n",
    "    # comp_df = comp_df[comp_df[\"growth_rate\"] != 0]\n",
    "    comp_df = pd.concat([\n",
    "        comp_df[comp_df[\"strain\"] == \"MG1655\"],\n",
    "        comp_df[comp_df[\"strain\"] != \"MG1655\"].sort_values(\"strain\")\n",
    "    ])\n",
    "\n",
    "    sbn.barplot(x=\"strain\", y=\"slope\", data=comp_df, errwidth=0, color=\"lightblue\")\n",
    "    plt.xticks(rotation=90, fontsize=12)\n",
    "    sbn.stripplot(x=\"strain\", y=\"slope\", data=comp_df, color=\"black\", size=4)\n",
    "    plt.xlabel(\"\")\n",
    "    plt.ylabel(\"Growth rate ({})\".format(prettify(comp)), fontsize=8)\n",
    "    plt.yticks(fontsize=12)\n",
    "\n",
    "    \n",
    "plt.subplots_adjust(hspace=0.9)\n",
    "# plt.tight_layout()\n",
    "plt.savefig(\"../Plots/Supplementary Figure 6 - Reconstructed tolerance.pdf\")\n",
    "plt.savefig(\"../Plots/Supplementary Figure 6 - Reconstructed tolerance.svg\")"
   ]
  },
  {
   "cell_type": "code",
   "execution_count": null,
   "metadata": {},
   "outputs": [],
   "source": [
    "comp_order=[\"glutarate\"]\n",
    "plt.figure(figsize=[16, 80])\n",
    "\n",
    "for i, comp in enumerate(comp_order):\n",
    "    plt.subplot(12, 1, (i % 12)+1)\n",
    "    comp_df = recon_df[recon_df[\"compound\"] == comp]\n",
    "    # comp_df = comp_df[comp_df[\"growth_rate\"] != 0]\n",
    "    comp_df = pd.concat([\n",
    "        comp_df[comp_df[\"strain\"] == \"MG1655\"],\n",
    "        comp_df[comp_df[\"strain\"] != \"MG1655\"].sort_values(\"strain\")\n",
    "    ])\n",
    "\n",
    "    sbn.barplot(x=\"strain\", y=\"slope\", data=comp_df, errwidth=0, color=\"lightblue\")\n",
    "    plt.xticks(rotation=90, fontsize=12)\n",
    "    sbn.stripplot(x=\"strain\", y=\"slope\", data=comp_df, color=\"black\", size=4)\n",
    "    plt.xlabel(\"\")\n",
    "    plt.ylabel(\"Growth rate ({})\".format(prettify(comp)), fontsize=8)\n",
    "    plt.yticks(fontsize=12)\n",
    "\n",
    "    \n",
    "plt.subplots_adjust(hspace=0.9)\n",
    "# plt.tight_layout()\n",
    "plt.savefig(\"../Plots/Supplementary Figure 6 - Reconstructed tolerance.pdf\")\n",
    "plt.savefig(\"../Plots/Supplementary Figure 6 - Reconstructed tolerance.svg\")"
   ]
  },
  {
   "cell_type": "code",
   "execution_count": null,
   "metadata": {},
   "outputs": [],
   "source": [
    "comp_order=[\"HMDA\"]\n",
    "plt.figure(figsize=[16, 80])\n",
    "\n",
    "for i, comp in enumerate(comp_order):\n",
    "    plt.subplot(12, 1, (i % 12)+1)\n",
    "    comp_df = recon_df[recon_df[\"compound\"] == comp]\n",
    "    # comp_df = comp_df[comp_df[\"growth_rate\"] != 0]\n",
    "    comp_df = pd.concat([\n",
    "        comp_df[comp_df[\"strain\"] == \"MG1655\"],\n",
    "        comp_df[comp_df[\"strain\"] != \"MG1655\"].sort_values(\"strain\")\n",
    "    ])\n",
    "\n",
    "    sbn.barplot(x=\"strain\", y=\"slope\", data=comp_df, errwidth=0, color=\"lightblue\")\n",
    "    plt.xticks(rotation=90, fontsize=12)\n",
    "    sbn.stripplot(x=\"strain\", y=\"slope\", data=comp_df, color=\"black\", size=4)\n",
    "    plt.xlabel(\"\")\n",
    "    plt.ylabel(\"Growth rate ({})\".format(prettify(comp)), fontsize=8)\n",
    "    plt.yticks(fontsize=12)\n",
    "\n",
    "    \n",
    "plt.subplots_adjust(hspace=0.9)\n",
    "# plt.tight_layout()\n",
    "plt.savefig(\"../Plots/Supplementary Figure 6 - Reconstructed tolerance.pdf\")\n",
    "plt.savefig(\"../Plots/Supplementary Figure 6 - Reconstructed tolerance.svg\")"
   ]
  },
  {
   "cell_type": "code",
   "execution_count": null,
   "metadata": {},
   "outputs": [],
   "source": [
    "comp_order=[\"octanoate\"]\n",
    "plt.figure(figsize=[16, 80])\n",
    "\n",
    "for i, comp in enumerate(comp_order):\n",
    "    plt.subplot(12, 1, (i % 12)+1)\n",
    "    comp_df = recon_df[recon_df[\"compound\"] == comp]\n",
    "    # comp_df = comp_df[comp_df[\"growth_rate\"] != 0]\n",
    "    comp_df = pd.concat([\n",
    "        comp_df[comp_df[\"strain\"] == \"MG1655\"],\n",
    "        comp_df[comp_df[\"strain\"] != \"MG1655\"].sort_values(\"strain\")\n",
    "    ])\n",
    "\n",
    "    sbn.barplot(x=\"strain\", y=\"slope\", data=comp_df, errwidth=0, color=\"lightblue\")\n",
    "    plt.xticks(rotation=90, fontsize=12)\n",
    "    sbn.stripplot(x=\"strain\", y=\"slope\", data=comp_df, color=\"black\", size=4)\n",
    "    plt.xlabel(\"\")\n",
    "    plt.ylabel(\"Growth rate ({})\".format(prettify(comp)), fontsize=8)\n",
    "    plt.yticks(fontsize=12)\n",
    "\n",
    "    \n",
    "plt.subplots_adjust(hspace=0.9)\n",
    "# plt.tight_layout()\n",
    "plt.savefig(\"../Plots/Supplementary Figure 6 - Reconstructed tolerance.pdf\")\n",
    "plt.savefig(\"../Plots/Supplementary Figure 6 - Reconstructed tolerance.svg\")"
   ]
  },
  {
   "cell_type": "code",
   "execution_count": null,
   "metadata": {},
   "outputs": [],
   "source": [
    "comp_df.groupby('strain').mean().sort_values(by='slope', ascending=False)"
   ]
  },
  {
   "cell_type": "code",
   "execution_count": null,
   "metadata": {},
   "outputs": [],
   "source": [
    "len(comp_df.strain.unique())"
   ]
  },
  {
   "cell_type": "code",
   "execution_count": null,
   "metadata": {},
   "outputs": [],
   "source": [
    "comp_df.sort_values(by='strain').strain.unique()"
   ]
  },
  {
   "cell_type": "code",
   "execution_count": null,
   "metadata": {},
   "outputs": [],
   "source": [
    "i='MG1655'"
   ]
  },
  {
   "cell_type": "code",
   "execution_count": null,
   "metadata": {},
   "outputs": [],
   "source": [
    "comp_df_avg = pd.DataFrame()"
   ]
  },
  {
   "cell_type": "code",
   "execution_count": null,
   "metadata": {},
   "outputs": [],
   "source": []
  },
  {
   "cell_type": "code",
   "execution_count": null,
   "metadata": {},
   "outputs": [],
   "source": [
    "for i in comp_df.strain.unique():\n",
    "    comp_df_avg.loc[i,'growth_rate']=comp_df[comp_df.strain==i].slope.mean()   \n"
   ]
  },
  {
   "cell_type": "code",
   "execution_count": null,
   "metadata": {},
   "outputs": [],
   "source": [
    "comp_df_avg=comp_df_avg.sort_values(by='growth_rate', ascending=False)"
   ]
  },
  {
   "cell_type": "code",
   "execution_count": null,
   "metadata": {},
   "outputs": [],
   "source": [
    "temp=pd.DataFrame(index=comp_df_avg.index)"
   ]
  },
  {
   "cell_type": "code",
   "execution_count": null,
   "metadata": {},
   "outputs": [],
   "source": [
    "for i in temp.index:\n",
    "    if(i[0:4]=='proV'):\n",
    "        temp.loc[i,'leave']=True\n",
    "    else:\n",
    "        temp.loc[i,'leave']=False\n"
   ]
  },
  {
   "cell_type": "code",
   "execution_count": null,
   "metadata": {},
   "outputs": [],
   "source": [
    "temp=temp[temp.leave==True]"
   ]
  },
  {
   "cell_type": "code",
   "execution_count": null,
   "metadata": {},
   "outputs": [],
   "source": [
    "temp"
   ]
  },
  {
   "cell_type": "code",
   "execution_count": null,
   "metadata": {},
   "outputs": [],
   "source": [
    "comp_df_avg=comp_df_avg"
   ]
  },
  {
   "cell_type": "code",
   "execution_count": null,
   "metadata": {},
   "outputs": [],
   "source": [
    "comp_df_avg.head(20).index"
   ]
  },
  {
   "cell_type": "code",
   "execution_count": null,
   "metadata": {},
   "outputs": [],
   "source": [
    "comp_df_sorted=comp_df[comp_df.strain.isin(temp.index)]\n"
   ]
  },
  {
   "cell_type": "code",
   "execution_count": null,
   "metadata": {},
   "outputs": [],
   "source": [
    "comp_df_sorted=comp_df[comp_df.strain.isin(comp_df_avg.head(20).index)]\n",
    "\n",
    "comp_df_sorted=pd.concat(p)"
   ]
  },
  {
   "cell_type": "code",
   "execution_count": null,
   "metadata": {},
   "outputs": [],
   "source": [
    "plt.figure(figsize=[8, 4])\n",
    "\n",
    "sbn.barplot(x=\"strain\", y=\"slope\", data=comp_df_sorted, errwidth=0, color=\"lightblue\")\n",
    "plt.xticks(rotation=90, fontsize=12)\n",
    "sbn.stripplot(x=\"strain\", y=\"slope\", data=comp_df_sorted, color=\"black\", size=4)\n",
    "plt.xlabel(\"\")\n",
    "plt.ylabel(\"Growth rate ({})\".format(prettify(comp)), fontsize=8)\n",
    "plt.yticks(fontsize=12)\n",
    "\n",
    "plt.subplots_adjust(hspace=0.9)\n",
    "\n",
    "    "
   ]
  },
  {
   "cell_type": "code",
   "execution_count": null,
   "metadata": {},
   "outputs": [],
   "source": [
    "plt.figure(figsize=[16, 80])\n",
    "\n",
    "for i, comp in enumerate(comp_order):\n",
    "    plt.subplot(12, 1, (i % 12)+1)\n",
    "    comp_df = recon_df[recon_df[\"compound\"] == comp]\n",
    "    # comp_df = comp_df[comp_df[\"growth_rate\"] != 0]\n",
    "    comp_df = pd.concat([\n",
    "        comp_df[comp_df[\"strain\"] == \"MG1655\"],\n",
    "        comp_df[comp_df[\"strain\"] != \"MG1655\"].sort_values(\"strain\")\n",
    "    ])\n",
    "\n",
    "    sbn.barplot(x=\"strain\", y=\"slope\", data=comp_df, errwidth=0, color=\"lightblue\")\n",
    "    plt.xticks(rotation=90, fontsize=12)\n",
    "    sbn.stripplot(x=\"strain\", y=\"slope\", data=comp_df, color=\"black\", size=4)\n",
    "    plt.xlabel(\"\")\n",
    "    plt.ylabel(\"Growth rate ({})\".format(prettify(comp)), fontsize=8)\n",
    "    plt.yticks(fontsize=12)\n",
    "\n",
    "    \n",
    "plt.subplots_adjust(hspace=0.9)\n",
    "# plt.tight_layout()\n",
    "plt.savefig(\"../Plots/Supplementary Figure 6 - Reconstructed tolerance.pdf\")\n",
    "plt.savefig(\"../Plots/Supplementary Figure 6 - Reconstructed tolerance.svg\")"
   ]
  }
 ],
 "metadata": {
  "anaconda-cloud": {},
  "kernelspec": {
   "display_name": "Python 3 (ipykernel)",
   "language": "python",
   "name": "python3"
  },
  "language_info": {
   "codemirror_mode": {
    "name": "ipython",
    "version": 3
   },
   "file_extension": ".py",
   "mimetype": "text/x-python",
   "name": "python",
   "nbconvert_exporter": "python",
   "pygments_lexer": "ipython3",
   "version": "3.10.4"
  }
 },
 "nbformat": 4,
 "nbformat_minor": 2
}
